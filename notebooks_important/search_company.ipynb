{
 "cells": [
  {
   "cell_type": "code",
   "execution_count": 374,
   "metadata": {},
   "outputs": [],
   "source": [
    "# !pip install ipykernel\n",
    "# !pip install pandas"
   ]
  },
  {
   "cell_type": "markdown",
   "metadata": {},
   "source": [
    "Краткое описание дата сета:\n",
    "\n",
    "Качество предлагаемого участниками решения будет оцениваться по 2-ум задачам:\n",
    "\n",
    "a)      Корректное нахождение компаний. Релевантные таблицы:\n",
    "1)       mentions.csv  - содержит id канала, id сообщения и id упоминаемой компании\n",
    "2)      mentions_texts.pickle – содержит id канала, id сообщения и текст этого сообщения\n",
    "\n",
    "b)      Корректное распознавание сентимента. Релевантные таблицы:\n",
    "\n",
    "1)      sentiment.csv – содержит id канала, id сообщения, id компании и score сентимента\n",
    "2)      sentiment_texts.pickle - содержит id канала, id сообщения и текст этого сообщения"
   ]
  },
  {
   "cell_type": "code",
   "execution_count": 375,
   "metadata": {},
   "outputs": [],
   "source": [
    "import pandas as pd"
   ]
  },
  {
   "cell_type": "code",
   "execution_count": 376,
   "metadata": {},
   "outputs": [],
   "source": [
    "mentions = pd.read_csv('/home/yagor/Рабочий стол/gagrin/sentiment_dataset/mentions.csv', index_col=0)"
   ]
  },
  {
   "cell_type": "code",
   "execution_count": 377,
   "metadata": {},
   "outputs": [
    {
     "data": {
      "text/html": [
       "<div>\n",
       "<style scoped>\n",
       "    .dataframe tbody tr th:only-of-type {\n",
       "        vertical-align: middle;\n",
       "    }\n",
       "\n",
       "    .dataframe tbody tr th {\n",
       "        vertical-align: top;\n",
       "    }\n",
       "\n",
       "    .dataframe thead th {\n",
       "        text-align: right;\n",
       "    }\n",
       "</style>\n",
       "<table border=\"1\" class=\"dataframe\">\n",
       "  <thead>\n",
       "    <tr style=\"text-align: right;\">\n",
       "      <th></th>\n",
       "      <th>ChannelID</th>\n",
       "      <th>messageid</th>\n",
       "      <th>issuerid</th>\n",
       "    </tr>\n",
       "  </thead>\n",
       "  <tbody>\n",
       "    <tr>\n",
       "      <th>0</th>\n",
       "      <td>1197210433</td>\n",
       "      <td>5408</td>\n",
       "      <td>90</td>\n",
       "    </tr>\n",
       "    <tr>\n",
       "      <th>1</th>\n",
       "      <td>1203560567</td>\n",
       "      <td>64803</td>\n",
       "      <td>57</td>\n",
       "    </tr>\n",
       "    <tr>\n",
       "      <th>2</th>\n",
       "      <td>1197210433</td>\n",
       "      <td>23389</td>\n",
       "      <td>152</td>\n",
       "    </tr>\n",
       "    <tr>\n",
       "      <th>3</th>\n",
       "      <td>1066174394</td>\n",
       "      <td>677</td>\n",
       "      <td>112</td>\n",
       "    </tr>\n",
       "    <tr>\n",
       "      <th>4</th>\n",
       "      <td>1239405989</td>\n",
       "      <td>4486</td>\n",
       "      <td>115</td>\n",
       "    </tr>\n",
       "    <tr>\n",
       "      <th>...</th>\n",
       "      <td>...</td>\n",
       "      <td>...</td>\n",
       "      <td>...</td>\n",
       "    </tr>\n",
       "    <tr>\n",
       "      <th>21910</th>\n",
       "      <td>1203560567</td>\n",
       "      <td>141069</td>\n",
       "      <td>227</td>\n",
       "    </tr>\n",
       "    <tr>\n",
       "      <th>21911</th>\n",
       "      <td>1265642153</td>\n",
       "      <td>538</td>\n",
       "      <td>116</td>\n",
       "    </tr>\n",
       "    <tr>\n",
       "      <th>21912</th>\n",
       "      <td>1160971567</td>\n",
       "      <td>283</td>\n",
       "      <td>115</td>\n",
       "    </tr>\n",
       "    <tr>\n",
       "      <th>21913</th>\n",
       "      <td>1203560567</td>\n",
       "      <td>276916</td>\n",
       "      <td>88</td>\n",
       "    </tr>\n",
       "    <tr>\n",
       "      <th>21914</th>\n",
       "      <td>1075565753</td>\n",
       "      <td>36443</td>\n",
       "      <td>160</td>\n",
       "    </tr>\n",
       "  </tbody>\n",
       "</table>\n",
       "<p>21915 rows × 3 columns</p>\n",
       "</div>"
      ],
      "text/plain": [
       "        ChannelID  messageid  issuerid\n",
       "0      1197210433       5408        90\n",
       "1      1203560567      64803        57\n",
       "2      1197210433      23389       152\n",
       "3      1066174394        677       112\n",
       "4      1239405989       4486       115\n",
       "...           ...        ...       ...\n",
       "21910  1203560567     141069       227\n",
       "21911  1265642153        538       116\n",
       "21912  1160971567        283       115\n",
       "21913  1203560567     276916        88\n",
       "21914  1075565753      36443       160\n",
       "\n",
       "[21915 rows x 3 columns]"
      ]
     },
     "execution_count": 377,
     "metadata": {},
     "output_type": "execute_result"
    }
   ],
   "source": [
    "mentions"
   ]
  },
  {
   "cell_type": "code",
   "execution_count": 378,
   "metadata": {},
   "outputs": [
    {
     "data": {
      "text/html": [
       "<div>\n",
       "<style scoped>\n",
       "    .dataframe tbody tr th:only-of-type {\n",
       "        vertical-align: middle;\n",
       "    }\n",
       "\n",
       "    .dataframe tbody tr th {\n",
       "        vertical-align: top;\n",
       "    }\n",
       "\n",
       "    .dataframe thead th {\n",
       "        text-align: right;\n",
       "    }\n",
       "</style>\n",
       "<table border=\"1\" class=\"dataframe\">\n",
       "  <thead>\n",
       "    <tr style=\"text-align: right;\">\n",
       "      <th></th>\n",
       "      <th>MessageID</th>\n",
       "      <th>ChannelID</th>\n",
       "      <th>issuerid</th>\n",
       "      <th>SentimentScore</th>\n",
       "    </tr>\n",
       "  </thead>\n",
       "  <tbody>\n",
       "    <tr>\n",
       "      <th>0</th>\n",
       "      <td>241407</td>\n",
       "      <td>1203560567</td>\n",
       "      <td>153</td>\n",
       "      <td>2</td>\n",
       "    </tr>\n",
       "    <tr>\n",
       "      <th>1</th>\n",
       "      <td>33684</td>\n",
       "      <td>1136626166</td>\n",
       "      <td>230</td>\n",
       "      <td>4</td>\n",
       "    </tr>\n",
       "    <tr>\n",
       "      <th>2</th>\n",
       "      <td>10090</td>\n",
       "      <td>1063908560</td>\n",
       "      <td>118</td>\n",
       "      <td>4</td>\n",
       "    </tr>\n",
       "    <tr>\n",
       "      <th>3</th>\n",
       "      <td>9826</td>\n",
       "      <td>1063908560</td>\n",
       "      <td>89</td>\n",
       "      <td>2</td>\n",
       "    </tr>\n",
       "    <tr>\n",
       "      <th>4</th>\n",
       "      <td>9672</td>\n",
       "      <td>1063908560</td>\n",
       "      <td>160</td>\n",
       "      <td>2</td>\n",
       "    </tr>\n",
       "    <tr>\n",
       "      <th>...</th>\n",
       "      <td>...</td>\n",
       "      <td>...</td>\n",
       "      <td>...</td>\n",
       "      <td>...</td>\n",
       "    </tr>\n",
       "    <tr>\n",
       "      <th>10926</th>\n",
       "      <td>9789</td>\n",
       "      <td>1063908560</td>\n",
       "      <td>225</td>\n",
       "      <td>3</td>\n",
       "    </tr>\n",
       "    <tr>\n",
       "      <th>10927</th>\n",
       "      <td>4789</td>\n",
       "      <td>1239405989</td>\n",
       "      <td>127</td>\n",
       "      <td>3</td>\n",
       "    </tr>\n",
       "    <tr>\n",
       "      <th>10928</th>\n",
       "      <td>233867</td>\n",
       "      <td>1203560567</td>\n",
       "      <td>127</td>\n",
       "      <td>3</td>\n",
       "    </tr>\n",
       "    <tr>\n",
       "      <th>10929</th>\n",
       "      <td>3681</td>\n",
       "      <td>1219484576</td>\n",
       "      <td>127</td>\n",
       "      <td>3</td>\n",
       "    </tr>\n",
       "    <tr>\n",
       "      <th>10930</th>\n",
       "      <td>14315</td>\n",
       "      <td>1075101206</td>\n",
       "      <td>112</td>\n",
       "      <td>5</td>\n",
       "    </tr>\n",
       "  </tbody>\n",
       "</table>\n",
       "<p>10931 rows × 4 columns</p>\n",
       "</div>"
      ],
      "text/plain": [
       "       MessageID   ChannelID  issuerid  SentimentScore\n",
       "0         241407  1203560567       153               2\n",
       "1          33684  1136626166       230               4\n",
       "2          10090  1063908560       118               4\n",
       "3           9826  1063908560        89               2\n",
       "4           9672  1063908560       160               2\n",
       "...          ...         ...       ...             ...\n",
       "10926       9789  1063908560       225               3\n",
       "10927       4789  1239405989       127               3\n",
       "10928     233867  1203560567       127               3\n",
       "10929       3681  1219484576       127               3\n",
       "10930      14315  1075101206       112               5\n",
       "\n",
       "[10931 rows x 4 columns]"
      ]
     },
     "execution_count": 378,
     "metadata": {},
     "output_type": "execute_result"
    }
   ],
   "source": [
    "sentiment = pd.read_csv('/home/yagor/Рабочий стол/gagrin/sentiment_dataset/sentiment.csv', index_col=0)\n",
    "sentiment"
   ]
  },
  {
   "cell_type": "code",
   "execution_count": 379,
   "metadata": {},
   "outputs": [],
   "source": [
    "# import pickle, pprint"
   ]
  },
  {
   "cell_type": "code",
   "execution_count": 380,
   "metadata": {},
   "outputs": [],
   "source": [
    "# with open('/home/yagor/Рабочий стол/gagrin/sentiment_dataset/mentions texts.pickle', 'rb') as fp:\n",
    "#     a = pickle.load(fp)"
   ]
  },
  {
   "cell_type": "code",
   "execution_count": 381,
   "metadata": {},
   "outputs": [],
   "source": [
    "# pprint.pprint(a, width=120)"
   ]
  },
  {
   "cell_type": "code",
   "execution_count": 382,
   "metadata": {},
   "outputs": [],
   "source": [
    "mentions_texts = pd.read_pickle('/home/yagor/Рабочий стол/gagrin/sentiment_dataset/mentions texts.pickle')"
   ]
  },
  {
   "cell_type": "code",
   "execution_count": 383,
   "metadata": {},
   "outputs": [
    {
     "data": {
      "text/html": [
       "<div>\n",
       "<style scoped>\n",
       "    .dataframe tbody tr th:only-of-type {\n",
       "        vertical-align: middle;\n",
       "    }\n",
       "\n",
       "    .dataframe tbody tr th {\n",
       "        vertical-align: top;\n",
       "    }\n",
       "\n",
       "    .dataframe thead th {\n",
       "        text-align: right;\n",
       "    }\n",
       "</style>\n",
       "<table border=\"1\" class=\"dataframe\">\n",
       "  <thead>\n",
       "    <tr style=\"text-align: right;\">\n",
       "      <th></th>\n",
       "      <th>ChannelID</th>\n",
       "      <th>messageid</th>\n",
       "      <th>issuerid</th>\n",
       "      <th>MessageID</th>\n",
       "      <th>DateAdded</th>\n",
       "      <th>DatePosted</th>\n",
       "      <th>MessageText</th>\n",
       "      <th>IsForward</th>\n",
       "    </tr>\n",
       "  </thead>\n",
       "  <tbody>\n",
       "    <tr>\n",
       "      <th>0</th>\n",
       "      <td>1197210433</td>\n",
       "      <td>5408</td>\n",
       "      <td>90</td>\n",
       "      <td>5408</td>\n",
       "      <td>2021-02-06 01:42:42</td>\n",
       "      <td>2020-04-29 07:29:01</td>\n",
       "      <td>?? Фокус недели #ФН  Сегодня ????? ММК опублик...</td>\n",
       "      <td>False</td>\n",
       "    </tr>\n",
       "    <tr>\n",
       "      <th>1</th>\n",
       "      <td>1203560567</td>\n",
       "      <td>64803</td>\n",
       "      <td>57</td>\n",
       "      <td>64803</td>\n",
       "      <td>2021-02-06 01:47:00</td>\n",
       "      <td>2020-01-21 12:51:42</td>\n",
       "      <td>??#LSRG  ЛСР - операционные результаты (2019г)...</td>\n",
       "      <td>False</td>\n",
       "    </tr>\n",
       "    <tr>\n",
       "      <th>2</th>\n",
       "      <td>1197210433</td>\n",
       "      <td>23389</td>\n",
       "      <td>152</td>\n",
       "      <td>23389</td>\n",
       "      <td>2021-07-21 13:46:31</td>\n",
       "      <td>2021-07-21 11:15:46</td>\n",
       "      <td>#CHMF Северсталь (CHMF) впервые поставила в Бр...</td>\n",
       "      <td>False</td>\n",
       "    </tr>\n",
       "    <tr>\n",
       "      <th>3</th>\n",
       "      <td>1066174394</td>\n",
       "      <td>677</td>\n",
       "      <td>112</td>\n",
       "      <td>677</td>\n",
       "      <td>2021-09-21 04:23:59</td>\n",
       "      <td>2016-12-16 10:00:04</td>\n",
       "      <td>\"Версия: Многоходовочка по Роснефти  Роснефтег...</td>\n",
       "      <td>False</td>\n",
       "    </tr>\n",
       "    <tr>\n",
       "      <th>4</th>\n",
       "      <td>1239405989</td>\n",
       "      <td>4486</td>\n",
       "      <td>115</td>\n",
       "      <td>4486</td>\n",
       "      <td>2023-01-20 15:02:22</td>\n",
       "      <td>2023-01-20 13:03:38</td>\n",
       "      <td>🟢 Новости к этому часу   ⚪️ФРС США необходимо ...</td>\n",
       "      <td>False</td>\n",
       "    </tr>\n",
       "    <tr>\n",
       "      <th>...</th>\n",
       "      <td>...</td>\n",
       "      <td>...</td>\n",
       "      <td>...</td>\n",
       "      <td>...</td>\n",
       "      <td>...</td>\n",
       "      <td>...</td>\n",
       "      <td>...</td>\n",
       "      <td>...</td>\n",
       "    </tr>\n",
       "    <tr>\n",
       "      <th>19350</th>\n",
       "      <td>1326656811</td>\n",
       "      <td>1758</td>\n",
       "      <td>116</td>\n",
       "      <td>1758</td>\n",
       "      <td>2021-02-06 19:05:52</td>\n",
       "      <td>2019-07-10 20:01:05</td>\n",
       "      <td>\"#NLMK \"\"Новолипецкий металлургический комбина...</td>\n",
       "      <td>False</td>\n",
       "    </tr>\n",
       "    <tr>\n",
       "      <th>19351</th>\n",
       "      <td>1075101206</td>\n",
       "      <td>6196</td>\n",
       "      <td>218</td>\n",
       "      <td>6196</td>\n",
       "      <td>2021-02-06 01:02:00</td>\n",
       "      <td>2020-10-15 10:48:10</td>\n",
       "      <td>?? За 2020 год на МосБирже может появиться 10 ...</td>\n",
       "      <td>False</td>\n",
       "    </tr>\n",
       "    <tr>\n",
       "      <th>19352</th>\n",
       "      <td>1203560567</td>\n",
       "      <td>141069</td>\n",
       "      <td>227</td>\n",
       "      <td>141069</td>\n",
       "      <td>2021-06-15 14:30:24</td>\n",
       "      <td>2021-06-04 08:01:55</td>\n",
       "      <td>\"????#FIVE #ритейлеры #россия  СДЕЛКИ \"\"МАГНИТ...</td>\n",
       "      <td>False</td>\n",
       "    </tr>\n",
       "    <tr>\n",
       "      <th>19353</th>\n",
       "      <td>1160971567</td>\n",
       "      <td>283</td>\n",
       "      <td>115</td>\n",
       "      <td>283</td>\n",
       "      <td>2021-09-21 04:33:17</td>\n",
       "      <td>2020-02-17 23:11:07</td>\n",
       "      <td>UPD: ТА Интер РАО UPD: ТА Новатэк</td>\n",
       "      <td>False</td>\n",
       "    </tr>\n",
       "    <tr>\n",
       "      <th>19354</th>\n",
       "      <td>1203560567</td>\n",
       "      <td>276916</td>\n",
       "      <td>88</td>\n",
       "      <td>276916</td>\n",
       "      <td>2024-02-29 20:24:21</td>\n",
       "      <td>2024-02-29 14:48:56</td>\n",
       "      <td>🇷🇺#MVID #отчетность  12 марта - М.Видео - МСФО...</td>\n",
       "      <td>False</td>\n",
       "    </tr>\n",
       "  </tbody>\n",
       "</table>\n",
       "<p>19355 rows × 8 columns</p>\n",
       "</div>"
      ],
      "text/plain": [
       "        ChannelID  messageid  issuerid  MessageID           DateAdded  \\\n",
       "0      1197210433       5408        90       5408 2021-02-06 01:42:42   \n",
       "1      1203560567      64803        57      64803 2021-02-06 01:47:00   \n",
       "2      1197210433      23389       152      23389 2021-07-21 13:46:31   \n",
       "3      1066174394        677       112        677 2021-09-21 04:23:59   \n",
       "4      1239405989       4486       115       4486 2023-01-20 15:02:22   \n",
       "...           ...        ...       ...        ...                 ...   \n",
       "19350  1326656811       1758       116       1758 2021-02-06 19:05:52   \n",
       "19351  1075101206       6196       218       6196 2021-02-06 01:02:00   \n",
       "19352  1203560567     141069       227     141069 2021-06-15 14:30:24   \n",
       "19353  1160971567        283       115        283 2021-09-21 04:33:17   \n",
       "19354  1203560567     276916        88     276916 2024-02-29 20:24:21   \n",
       "\n",
       "               DatePosted                                        MessageText  \\\n",
       "0     2020-04-29 07:29:01  ?? Фокус недели #ФН  Сегодня ????? ММК опублик...   \n",
       "1     2020-01-21 12:51:42  ??#LSRG  ЛСР - операционные результаты (2019г)...   \n",
       "2     2021-07-21 11:15:46  #CHMF Северсталь (CHMF) впервые поставила в Бр...   \n",
       "3     2016-12-16 10:00:04  \"Версия: Многоходовочка по Роснефти  Роснефтег...   \n",
       "4     2023-01-20 13:03:38  🟢 Новости к этому часу   ⚪️ФРС США необходимо ...   \n",
       "...                   ...                                                ...   \n",
       "19350 2019-07-10 20:01:05  \"#NLMK \"\"Новолипецкий металлургический комбина...   \n",
       "19351 2020-10-15 10:48:10  ?? За 2020 год на МосБирже может появиться 10 ...   \n",
       "19352 2021-06-04 08:01:55  \"????#FIVE #ритейлеры #россия  СДЕЛКИ \"\"МАГНИТ...   \n",
       "19353 2020-02-17 23:11:07                  UPD: ТА Интер РАО UPD: ТА Новатэк   \n",
       "19354 2024-02-29 14:48:56  🇷🇺#MVID #отчетность  12 марта - М.Видео - МСФО...   \n",
       "\n",
       "       IsForward  \n",
       "0          False  \n",
       "1          False  \n",
       "2          False  \n",
       "3          False  \n",
       "4          False  \n",
       "...          ...  \n",
       "19350      False  \n",
       "19351      False  \n",
       "19352      False  \n",
       "19353      False  \n",
       "19354      False  \n",
       "\n",
       "[19355 rows x 8 columns]"
      ]
     },
     "execution_count": 383,
     "metadata": {},
     "output_type": "execute_result"
    }
   ],
   "source": [
    "mentions_texts"
   ]
  },
  {
   "cell_type": "code",
   "execution_count": 384,
   "metadata": {},
   "outputs": [
    {
     "data": {
      "text/html": [
       "<div>\n",
       "<style scoped>\n",
       "    .dataframe tbody tr th:only-of-type {\n",
       "        vertical-align: middle;\n",
       "    }\n",
       "\n",
       "    .dataframe tbody tr th {\n",
       "        vertical-align: top;\n",
       "    }\n",
       "\n",
       "    .dataframe thead th {\n",
       "        text-align: right;\n",
       "    }\n",
       "</style>\n",
       "<table border=\"1\" class=\"dataframe\">\n",
       "  <thead>\n",
       "    <tr style=\"text-align: right;\">\n",
       "      <th></th>\n",
       "      <th>MessageID</th>\n",
       "      <th>ChannelID</th>\n",
       "      <th>issuerid</th>\n",
       "      <th>SentimentScore</th>\n",
       "      <th>DateAdded</th>\n",
       "      <th>DatePosted</th>\n",
       "      <th>MessageText</th>\n",
       "      <th>IsForward</th>\n",
       "    </tr>\n",
       "  </thead>\n",
       "  <tbody>\n",
       "    <tr>\n",
       "      <th>0</th>\n",
       "      <td>241407</td>\n",
       "      <td>1203560567</td>\n",
       "      <td>153</td>\n",
       "      <td>2</td>\n",
       "      <td>2023-05-12 19:03:20</td>\n",
       "      <td>2023-05-12 19:02:42</td>\n",
       "      <td>⚠️🇷🇺#SELG #дивиденд  сд Селигдар: дивиденды 20...</td>\n",
       "      <td>False</td>\n",
       "    </tr>\n",
       "    <tr>\n",
       "      <th>1</th>\n",
       "      <td>33684</td>\n",
       "      <td>1136626166</td>\n",
       "      <td>230</td>\n",
       "      <td>4</td>\n",
       "      <td>2023-02-03 20:56:29</td>\n",
       "      <td>2023-02-03 16:46:34</td>\n",
       "      <td>Ozon продолжает развивать специализированные ф...</td>\n",
       "      <td>False</td>\n",
       "    </tr>\n",
       "    <tr>\n",
       "      <th>2</th>\n",
       "      <td>10090</td>\n",
       "      <td>1063908560</td>\n",
       "      <td>118</td>\n",
       "      <td>4</td>\n",
       "      <td>2023-06-02 19:18:37</td>\n",
       "      <td>2023-06-02 18:50:00</td>\n",
       "      <td>​Фокусы продолжаются🔥Акции и инвестиции  📈ВТБ ...</td>\n",
       "      <td>False</td>\n",
       "    </tr>\n",
       "    <tr>\n",
       "      <th>3</th>\n",
       "      <td>10090</td>\n",
       "      <td>1063908560</td>\n",
       "      <td>220</td>\n",
       "      <td>5</td>\n",
       "      <td>2023-06-02 19:18:37</td>\n",
       "      <td>2023-06-02 18:50:00</td>\n",
       "      <td>​Фокусы продолжаются🔥Акции и инвестиции  📈ВТБ ...</td>\n",
       "      <td>False</td>\n",
       "    </tr>\n",
       "    <tr>\n",
       "      <th>4</th>\n",
       "      <td>9826</td>\n",
       "      <td>1063908560</td>\n",
       "      <td>89</td>\n",
       "      <td>2</td>\n",
       "      <td>2023-04-24 17:51:38</td>\n",
       "      <td>2023-04-24 13:54:00</td>\n",
       "      <td>​​Windfall Tax — налог на сверхприбыль. Какие ...</td>\n",
       "      <td>False</td>\n",
       "    </tr>\n",
       "    <tr>\n",
       "      <th>...</th>\n",
       "      <td>...</td>\n",
       "      <td>...</td>\n",
       "      <td>...</td>\n",
       "      <td>...</td>\n",
       "      <td>...</td>\n",
       "      <td>...</td>\n",
       "      <td>...</td>\n",
       "      <td>...</td>\n",
       "    </tr>\n",
       "    <tr>\n",
       "      <th>9284</th>\n",
       "      <td>47482</td>\n",
       "      <td>1197210433</td>\n",
       "      <td>157</td>\n",
       "      <td>4</td>\n",
       "      <td>2023-03-20 14:53:14</td>\n",
       "      <td>2023-03-20 12:15:21</td>\n",
       "      <td>#FLOT #Дивиденды 💰 7% — возможная дивдоходност...</td>\n",
       "      <td>False</td>\n",
       "    </tr>\n",
       "    <tr>\n",
       "      <th>9285</th>\n",
       "      <td>233829</td>\n",
       "      <td>1203560567</td>\n",
       "      <td>157</td>\n",
       "      <td>4</td>\n",
       "      <td>2023-03-20 14:58:04</td>\n",
       "      <td>2023-03-20 12:05:49</td>\n",
       "      <td>🇷🇺#FLOT #отчетность  ЧИСТАЯ ПРИБЫЛЬ СОВКОМФЛОТ...</td>\n",
       "      <td>False</td>\n",
       "    </tr>\n",
       "    <tr>\n",
       "      <th>9286</th>\n",
       "      <td>9789</td>\n",
       "      <td>1063908560</td>\n",
       "      <td>225</td>\n",
       "      <td>3</td>\n",
       "      <td>2023-04-19 17:51:56</td>\n",
       "      <td>2023-04-19 15:32:00</td>\n",
       "      <td>​​Ключевой принцип создания портфеля  🔹Диверси...</td>\n",
       "      <td>False</td>\n",
       "    </tr>\n",
       "    <tr>\n",
       "      <th>9287</th>\n",
       "      <td>233867</td>\n",
       "      <td>1203560567</td>\n",
       "      <td>127</td>\n",
       "      <td>3</td>\n",
       "      <td>2023-03-20 14:58:04</td>\n",
       "      <td>2023-03-20 14:33:32</td>\n",
       "      <td>\"💥🇷🇺#PLZL #листинг #торги  \"\"Полюс\"\" ведет диа...</td>\n",
       "      <td>False</td>\n",
       "    </tr>\n",
       "    <tr>\n",
       "      <th>9288</th>\n",
       "      <td>14315</td>\n",
       "      <td>1075101206</td>\n",
       "      <td>112</td>\n",
       "      <td>5</td>\n",
       "      <td>2023-02-07 14:56:26</td>\n",
       "      <td>2023-02-07 14:28:09</td>\n",
       "      <td>Роснефть (ROSN) справедливая цена 425.17 рубля...</td>\n",
       "      <td>False</td>\n",
       "    </tr>\n",
       "  </tbody>\n",
       "</table>\n",
       "<p>9289 rows × 8 columns</p>\n",
       "</div>"
      ],
      "text/plain": [
       "      MessageID   ChannelID  issuerid  SentimentScore           DateAdded  \\\n",
       "0        241407  1203560567       153               2 2023-05-12 19:03:20   \n",
       "1         33684  1136626166       230               4 2023-02-03 20:56:29   \n",
       "2         10090  1063908560       118               4 2023-06-02 19:18:37   \n",
       "3         10090  1063908560       220               5 2023-06-02 19:18:37   \n",
       "4          9826  1063908560        89               2 2023-04-24 17:51:38   \n",
       "...         ...         ...       ...             ...                 ...   \n",
       "9284      47482  1197210433       157               4 2023-03-20 14:53:14   \n",
       "9285     233829  1203560567       157               4 2023-03-20 14:58:04   \n",
       "9286       9789  1063908560       225               3 2023-04-19 17:51:56   \n",
       "9287     233867  1203560567       127               3 2023-03-20 14:58:04   \n",
       "9288      14315  1075101206       112               5 2023-02-07 14:56:26   \n",
       "\n",
       "              DatePosted                                        MessageText  \\\n",
       "0    2023-05-12 19:02:42  ⚠️🇷🇺#SELG #дивиденд  сд Селигдар: дивиденды 20...   \n",
       "1    2023-02-03 16:46:34  Ozon продолжает развивать специализированные ф...   \n",
       "2    2023-06-02 18:50:00  ​Фокусы продолжаются🔥Акции и инвестиции  📈ВТБ ...   \n",
       "3    2023-06-02 18:50:00  ​Фокусы продолжаются🔥Акции и инвестиции  📈ВТБ ...   \n",
       "4    2023-04-24 13:54:00  ​​Windfall Tax — налог на сверхприбыль. Какие ...   \n",
       "...                  ...                                                ...   \n",
       "9284 2023-03-20 12:15:21  #FLOT #Дивиденды 💰 7% — возможная дивдоходност...   \n",
       "9285 2023-03-20 12:05:49  🇷🇺#FLOT #отчетность  ЧИСТАЯ ПРИБЫЛЬ СОВКОМФЛОТ...   \n",
       "9286 2023-04-19 15:32:00  ​​Ключевой принцип создания портфеля  🔹Диверси...   \n",
       "9287 2023-03-20 14:33:32  \"💥🇷🇺#PLZL #листинг #торги  \"\"Полюс\"\" ведет диа...   \n",
       "9288 2023-02-07 14:28:09  Роснефть (ROSN) справедливая цена 425.17 рубля...   \n",
       "\n",
       "      IsForward  \n",
       "0         False  \n",
       "1         False  \n",
       "2         False  \n",
       "3         False  \n",
       "4         False  \n",
       "...         ...  \n",
       "9284      False  \n",
       "9285      False  \n",
       "9286      False  \n",
       "9287      False  \n",
       "9288      False  \n",
       "\n",
       "[9289 rows x 8 columns]"
      ]
     },
     "execution_count": 384,
     "metadata": {},
     "output_type": "execute_result"
    }
   ],
   "source": [
    "sentiment_texts = pd.read_pickle('/home/yagor/Рабочий стол/gagrin/sentiment_dataset/sentiment_texts.pickle')\n",
    "sentiment_texts"
   ]
  },
  {
   "cell_type": "markdown",
   "metadata": {},
   "source": [
    "## Корректное нахождение компаний"
   ]
  },
  {
   "cell_type": "code",
   "execution_count": 385,
   "metadata": {},
   "outputs": [
    {
     "data": {
      "text/html": [
       "<div>\n",
       "<style scoped>\n",
       "    .dataframe tbody tr th:only-of-type {\n",
       "        vertical-align: middle;\n",
       "    }\n",
       "\n",
       "    .dataframe tbody tr th {\n",
       "        vertical-align: top;\n",
       "    }\n",
       "\n",
       "    .dataframe thead th {\n",
       "        text-align: right;\n",
       "    }\n",
       "</style>\n",
       "<table border=\"1\" class=\"dataframe\">\n",
       "  <thead>\n",
       "    <tr style=\"text-align: right;\">\n",
       "      <th></th>\n",
       "      <th>ChannelID</th>\n",
       "      <th>messageid</th>\n",
       "      <th>issuerid</th>\n",
       "    </tr>\n",
       "  </thead>\n",
       "  <tbody>\n",
       "    <tr>\n",
       "      <th>0</th>\n",
       "      <td>1197210433</td>\n",
       "      <td>5408</td>\n",
       "      <td>90</td>\n",
       "    </tr>\n",
       "    <tr>\n",
       "      <th>1</th>\n",
       "      <td>1203560567</td>\n",
       "      <td>64803</td>\n",
       "      <td>57</td>\n",
       "    </tr>\n",
       "    <tr>\n",
       "      <th>2</th>\n",
       "      <td>1197210433</td>\n",
       "      <td>23389</td>\n",
       "      <td>152</td>\n",
       "    </tr>\n",
       "    <tr>\n",
       "      <th>3</th>\n",
       "      <td>1066174394</td>\n",
       "      <td>677</td>\n",
       "      <td>112</td>\n",
       "    </tr>\n",
       "    <tr>\n",
       "      <th>4</th>\n",
       "      <td>1239405989</td>\n",
       "      <td>4486</td>\n",
       "      <td>115</td>\n",
       "    </tr>\n",
       "    <tr>\n",
       "      <th>...</th>\n",
       "      <td>...</td>\n",
       "      <td>...</td>\n",
       "      <td>...</td>\n",
       "    </tr>\n",
       "    <tr>\n",
       "      <th>21910</th>\n",
       "      <td>1203560567</td>\n",
       "      <td>141069</td>\n",
       "      <td>227</td>\n",
       "    </tr>\n",
       "    <tr>\n",
       "      <th>21911</th>\n",
       "      <td>1265642153</td>\n",
       "      <td>538</td>\n",
       "      <td>116</td>\n",
       "    </tr>\n",
       "    <tr>\n",
       "      <th>21912</th>\n",
       "      <td>1160971567</td>\n",
       "      <td>283</td>\n",
       "      <td>115</td>\n",
       "    </tr>\n",
       "    <tr>\n",
       "      <th>21913</th>\n",
       "      <td>1203560567</td>\n",
       "      <td>276916</td>\n",
       "      <td>88</td>\n",
       "    </tr>\n",
       "    <tr>\n",
       "      <th>21914</th>\n",
       "      <td>1075565753</td>\n",
       "      <td>36443</td>\n",
       "      <td>160</td>\n",
       "    </tr>\n",
       "  </tbody>\n",
       "</table>\n",
       "<p>21915 rows × 3 columns</p>\n",
       "</div>"
      ],
      "text/plain": [
       "        ChannelID  messageid  issuerid\n",
       "0      1197210433       5408        90\n",
       "1      1203560567      64803        57\n",
       "2      1197210433      23389       152\n",
       "3      1066174394        677       112\n",
       "4      1239405989       4486       115\n",
       "...           ...        ...       ...\n",
       "21910  1203560567     141069       227\n",
       "21911  1265642153        538       116\n",
       "21912  1160971567        283       115\n",
       "21913  1203560567     276916        88\n",
       "21914  1075565753      36443       160\n",
       "\n",
       "[21915 rows x 3 columns]"
      ]
     },
     "execution_count": 385,
     "metadata": {},
     "output_type": "execute_result"
    }
   ],
   "source": [
    "mentions"
   ]
  },
  {
   "cell_type": "code",
   "execution_count": 386,
   "metadata": {},
   "outputs": [
    {
     "data": {
      "text/html": [
       "<div>\n",
       "<style scoped>\n",
       "    .dataframe tbody tr th:only-of-type {\n",
       "        vertical-align: middle;\n",
       "    }\n",
       "\n",
       "    .dataframe tbody tr th {\n",
       "        vertical-align: top;\n",
       "    }\n",
       "\n",
       "    .dataframe thead th {\n",
       "        text-align: right;\n",
       "    }\n",
       "</style>\n",
       "<table border=\"1\" class=\"dataframe\">\n",
       "  <thead>\n",
       "    <tr style=\"text-align: right;\">\n",
       "      <th></th>\n",
       "      <th>ChannelID</th>\n",
       "      <th>messageid</th>\n",
       "      <th>issuerid</th>\n",
       "      <th>MessageID</th>\n",
       "      <th>DateAdded</th>\n",
       "      <th>DatePosted</th>\n",
       "      <th>MessageText</th>\n",
       "      <th>IsForward</th>\n",
       "    </tr>\n",
       "  </thead>\n",
       "  <tbody>\n",
       "    <tr>\n",
       "      <th>0</th>\n",
       "      <td>1197210433</td>\n",
       "      <td>5408</td>\n",
       "      <td>90</td>\n",
       "      <td>5408</td>\n",
       "      <td>2021-02-06 01:42:42</td>\n",
       "      <td>2020-04-29 07:29:01</td>\n",
       "      <td>?? Фокус недели #ФН  Сегодня ????? ММК опублик...</td>\n",
       "      <td>False</td>\n",
       "    </tr>\n",
       "    <tr>\n",
       "      <th>1</th>\n",
       "      <td>1203560567</td>\n",
       "      <td>64803</td>\n",
       "      <td>57</td>\n",
       "      <td>64803</td>\n",
       "      <td>2021-02-06 01:47:00</td>\n",
       "      <td>2020-01-21 12:51:42</td>\n",
       "      <td>??#LSRG  ЛСР - операционные результаты (2019г)...</td>\n",
       "      <td>False</td>\n",
       "    </tr>\n",
       "    <tr>\n",
       "      <th>2</th>\n",
       "      <td>1197210433</td>\n",
       "      <td>23389</td>\n",
       "      <td>152</td>\n",
       "      <td>23389</td>\n",
       "      <td>2021-07-21 13:46:31</td>\n",
       "      <td>2021-07-21 11:15:46</td>\n",
       "      <td>#CHMF Северсталь (CHMF) впервые поставила в Бр...</td>\n",
       "      <td>False</td>\n",
       "    </tr>\n",
       "    <tr>\n",
       "      <th>3</th>\n",
       "      <td>1066174394</td>\n",
       "      <td>677</td>\n",
       "      <td>112</td>\n",
       "      <td>677</td>\n",
       "      <td>2021-09-21 04:23:59</td>\n",
       "      <td>2016-12-16 10:00:04</td>\n",
       "      <td>\"Версия: Многоходовочка по Роснефти  Роснефтег...</td>\n",
       "      <td>False</td>\n",
       "    </tr>\n",
       "    <tr>\n",
       "      <th>4</th>\n",
       "      <td>1239405989</td>\n",
       "      <td>4486</td>\n",
       "      <td>115</td>\n",
       "      <td>4486</td>\n",
       "      <td>2023-01-20 15:02:22</td>\n",
       "      <td>2023-01-20 13:03:38</td>\n",
       "      <td>🟢 Новости к этому часу   ⚪️ФРС США необходимо ...</td>\n",
       "      <td>False</td>\n",
       "    </tr>\n",
       "    <tr>\n",
       "      <th>...</th>\n",
       "      <td>...</td>\n",
       "      <td>...</td>\n",
       "      <td>...</td>\n",
       "      <td>...</td>\n",
       "      <td>...</td>\n",
       "      <td>...</td>\n",
       "      <td>...</td>\n",
       "      <td>...</td>\n",
       "    </tr>\n",
       "    <tr>\n",
       "      <th>19350</th>\n",
       "      <td>1326656811</td>\n",
       "      <td>1758</td>\n",
       "      <td>116</td>\n",
       "      <td>1758</td>\n",
       "      <td>2021-02-06 19:05:52</td>\n",
       "      <td>2019-07-10 20:01:05</td>\n",
       "      <td>\"#NLMK \"\"Новолипецкий металлургический комбина...</td>\n",
       "      <td>False</td>\n",
       "    </tr>\n",
       "    <tr>\n",
       "      <th>19351</th>\n",
       "      <td>1075101206</td>\n",
       "      <td>6196</td>\n",
       "      <td>218</td>\n",
       "      <td>6196</td>\n",
       "      <td>2021-02-06 01:02:00</td>\n",
       "      <td>2020-10-15 10:48:10</td>\n",
       "      <td>?? За 2020 год на МосБирже может появиться 10 ...</td>\n",
       "      <td>False</td>\n",
       "    </tr>\n",
       "    <tr>\n",
       "      <th>19352</th>\n",
       "      <td>1203560567</td>\n",
       "      <td>141069</td>\n",
       "      <td>227</td>\n",
       "      <td>141069</td>\n",
       "      <td>2021-06-15 14:30:24</td>\n",
       "      <td>2021-06-04 08:01:55</td>\n",
       "      <td>\"????#FIVE #ритейлеры #россия  СДЕЛКИ \"\"МАГНИТ...</td>\n",
       "      <td>False</td>\n",
       "    </tr>\n",
       "    <tr>\n",
       "      <th>19353</th>\n",
       "      <td>1160971567</td>\n",
       "      <td>283</td>\n",
       "      <td>115</td>\n",
       "      <td>283</td>\n",
       "      <td>2021-09-21 04:33:17</td>\n",
       "      <td>2020-02-17 23:11:07</td>\n",
       "      <td>UPD: ТА Интер РАО UPD: ТА Новатэк</td>\n",
       "      <td>False</td>\n",
       "    </tr>\n",
       "    <tr>\n",
       "      <th>19354</th>\n",
       "      <td>1203560567</td>\n",
       "      <td>276916</td>\n",
       "      <td>88</td>\n",
       "      <td>276916</td>\n",
       "      <td>2024-02-29 20:24:21</td>\n",
       "      <td>2024-02-29 14:48:56</td>\n",
       "      <td>🇷🇺#MVID #отчетность  12 марта - М.Видео - МСФО...</td>\n",
       "      <td>False</td>\n",
       "    </tr>\n",
       "  </tbody>\n",
       "</table>\n",
       "<p>19355 rows × 8 columns</p>\n",
       "</div>"
      ],
      "text/plain": [
       "        ChannelID  messageid  issuerid  MessageID           DateAdded  \\\n",
       "0      1197210433       5408        90       5408 2021-02-06 01:42:42   \n",
       "1      1203560567      64803        57      64803 2021-02-06 01:47:00   \n",
       "2      1197210433      23389       152      23389 2021-07-21 13:46:31   \n",
       "3      1066174394        677       112        677 2021-09-21 04:23:59   \n",
       "4      1239405989       4486       115       4486 2023-01-20 15:02:22   \n",
       "...           ...        ...       ...        ...                 ...   \n",
       "19350  1326656811       1758       116       1758 2021-02-06 19:05:52   \n",
       "19351  1075101206       6196       218       6196 2021-02-06 01:02:00   \n",
       "19352  1203560567     141069       227     141069 2021-06-15 14:30:24   \n",
       "19353  1160971567        283       115        283 2021-09-21 04:33:17   \n",
       "19354  1203560567     276916        88     276916 2024-02-29 20:24:21   \n",
       "\n",
       "               DatePosted                                        MessageText  \\\n",
       "0     2020-04-29 07:29:01  ?? Фокус недели #ФН  Сегодня ????? ММК опублик...   \n",
       "1     2020-01-21 12:51:42  ??#LSRG  ЛСР - операционные результаты (2019г)...   \n",
       "2     2021-07-21 11:15:46  #CHMF Северсталь (CHMF) впервые поставила в Бр...   \n",
       "3     2016-12-16 10:00:04  \"Версия: Многоходовочка по Роснефти  Роснефтег...   \n",
       "4     2023-01-20 13:03:38  🟢 Новости к этому часу   ⚪️ФРС США необходимо ...   \n",
       "...                   ...                                                ...   \n",
       "19350 2019-07-10 20:01:05  \"#NLMK \"\"Новолипецкий металлургический комбина...   \n",
       "19351 2020-10-15 10:48:10  ?? За 2020 год на МосБирже может появиться 10 ...   \n",
       "19352 2021-06-04 08:01:55  \"????#FIVE #ритейлеры #россия  СДЕЛКИ \"\"МАГНИТ...   \n",
       "19353 2020-02-17 23:11:07                  UPD: ТА Интер РАО UPD: ТА Новатэк   \n",
       "19354 2024-02-29 14:48:56  🇷🇺#MVID #отчетность  12 марта - М.Видео - МСФО...   \n",
       "\n",
       "       IsForward  \n",
       "0          False  \n",
       "1          False  \n",
       "2          False  \n",
       "3          False  \n",
       "4          False  \n",
       "...          ...  \n",
       "19350      False  \n",
       "19351      False  \n",
       "19352      False  \n",
       "19353      False  \n",
       "19354      False  \n",
       "\n",
       "[19355 rows x 8 columns]"
      ]
     },
     "execution_count": 386,
     "metadata": {},
     "output_type": "execute_result"
    }
   ],
   "source": [
    "mentions_texts"
   ]
  },
  {
   "cell_type": "code",
   "execution_count": 387,
   "metadata": {},
   "outputs": [
    {
     "data": {
      "text/html": [
       "<div>\n",
       "<style scoped>\n",
       "    .dataframe tbody tr th:only-of-type {\n",
       "        vertical-align: middle;\n",
       "    }\n",
       "\n",
       "    .dataframe tbody tr th {\n",
       "        vertical-align: top;\n",
       "    }\n",
       "\n",
       "    .dataframe thead th {\n",
       "        text-align: right;\n",
       "    }\n",
       "</style>\n",
       "<table border=\"1\" class=\"dataframe\">\n",
       "  <thead>\n",
       "    <tr style=\"text-align: right;\">\n",
       "      <th></th>\n",
       "      <th>ChannelID</th>\n",
       "      <th>messageid</th>\n",
       "      <th>issuerid</th>\n",
       "      <th>MessageID</th>\n",
       "      <th>DateAdded</th>\n",
       "      <th>DatePosted</th>\n",
       "      <th>MessageText</th>\n",
       "      <th>IsForward</th>\n",
       "    </tr>\n",
       "  </thead>\n",
       "  <tbody>\n",
       "    <tr>\n",
       "      <th>201</th>\n",
       "      <td>1203560567</td>\n",
       "      <td>108548</td>\n",
       "      <td>36</td>\n",
       "      <td>108548</td>\n",
       "      <td>2021-02-06 01:47:00</td>\n",
       "      <td>2020-11-12 15:15:41</td>\n",
       "      <td>\"??????#BELU #инсайдер  ПАО \"\"Белуга Групп\"\" -...</td>\n",
       "      <td>False</td>\n",
       "    </tr>\n",
       "    <tr>\n",
       "      <th>238</th>\n",
       "      <td>1203560567</td>\n",
       "      <td>235961</td>\n",
       "      <td>36</td>\n",
       "      <td>235961</td>\n",
       "      <td>2023-04-03 20:50:11</td>\n",
       "      <td>2023-04-03 19:08:18</td>\n",
       "      <td>❗️🇷🇺🇺🇸 #рынки #ожидания #россия #сша  Нефтегаз...</td>\n",
       "      <td>False</td>\n",
       "    </tr>\n",
       "    <tr>\n",
       "      <th>405</th>\n",
       "      <td>1197210433</td>\n",
       "      <td>5478</td>\n",
       "      <td>36</td>\n",
       "      <td>5478</td>\n",
       "      <td>2021-02-06 01:42:42</td>\n",
       "      <td>2020-04-29 21:29:01</td>\n",
       "      <td>?? Что было сегодня?  ?? СД Белуги рекомендова...</td>\n",
       "      <td>False</td>\n",
       "    </tr>\n",
       "    <tr>\n",
       "      <th>431</th>\n",
       "      <td>1197210433</td>\n",
       "      <td>24677</td>\n",
       "      <td>36</td>\n",
       "      <td>24677</td>\n",
       "      <td>2021-08-19 01:48:18</td>\n",
       "      <td>2021-08-18 17:36:03</td>\n",
       "      <td>#BELU ⚡️ Белуга (BELU) планирует наращивать ин...</td>\n",
       "      <td>False</td>\n",
       "    </tr>\n",
       "    <tr>\n",
       "      <th>494</th>\n",
       "      <td>1239405989</td>\n",
       "      <td>5356</td>\n",
       "      <td>36</td>\n",
       "      <td>5356</td>\n",
       "      <td>2023-07-11 19:06:43</td>\n",
       "      <td>2023-07-11 14:41:57</td>\n",
       "      <td>🟢 Новости к этому часу   ⚪️ Потребительские це...</td>\n",
       "      <td>False</td>\n",
       "    </tr>\n",
       "    <tr>\n",
       "      <th>...</th>\n",
       "      <td>...</td>\n",
       "      <td>...</td>\n",
       "      <td>...</td>\n",
       "      <td>...</td>\n",
       "      <td>...</td>\n",
       "      <td>...</td>\n",
       "      <td>...</td>\n",
       "      <td>...</td>\n",
       "    </tr>\n",
       "    <tr>\n",
       "      <th>18739</th>\n",
       "      <td>1203560567</td>\n",
       "      <td>272071</td>\n",
       "      <td>36</td>\n",
       "      <td>272071</td>\n",
       "      <td>2024-01-15 13:47:33</td>\n",
       "      <td>2024-01-15 10:36:10</td>\n",
       "      <td>🇷🇺#BELU #отчетность  Nobaev Group - операционн...</td>\n",
       "      <td>False</td>\n",
       "    </tr>\n",
       "    <tr>\n",
       "      <th>18743</th>\n",
       "      <td>1001029560</td>\n",
       "      <td>14961</td>\n",
       "      <td>36</td>\n",
       "      <td>14961</td>\n",
       "      <td>2023-09-01 19:14:11</td>\n",
       "      <td>2023-09-01 14:12:29</td>\n",
       "      <td>💸 Дивидендные отсечки в сентябре. От каких ком...</td>\n",
       "      <td>False</td>\n",
       "    </tr>\n",
       "    <tr>\n",
       "      <th>18873</th>\n",
       "      <td>1219484576</td>\n",
       "      <td>3663</td>\n",
       "      <td>36</td>\n",
       "      <td>3663</td>\n",
       "      <td>2023-03-11 14:57:31</td>\n",
       "      <td>2023-03-11 10:30:39</td>\n",
       "      <td>10 марта «Белуга групп» раскрыла ключевые резу...</td>\n",
       "      <td>False</td>\n",
       "    </tr>\n",
       "    <tr>\n",
       "      <th>19224</th>\n",
       "      <td>1203560567</td>\n",
       "      <td>232822</td>\n",
       "      <td>36</td>\n",
       "      <td>232822</td>\n",
       "      <td>2023-03-13 14:53:24</td>\n",
       "      <td>2023-03-13 09:44:22</td>\n",
       "      <td>💥🇷🇺#BELU #дивиденд  сд Белуга рекомендует 400 ...</td>\n",
       "      <td>False</td>\n",
       "    </tr>\n",
       "    <tr>\n",
       "      <th>19239</th>\n",
       "      <td>1160971567</td>\n",
       "      <td>4128</td>\n",
       "      <td>36</td>\n",
       "      <td>4128</td>\n",
       "      <td>2024-03-14 15:55:29</td>\n",
       "      <td>2024-03-14 14:00:23</td>\n",
       "      <td>🍷 В Белуге риск цены  При падении в 2023 году ...</td>\n",
       "      <td>False</td>\n",
       "    </tr>\n",
       "  </tbody>\n",
       "</table>\n",
       "<p>256 rows × 8 columns</p>\n",
       "</div>"
      ],
      "text/plain": [
       "        ChannelID  messageid  issuerid  MessageID           DateAdded  \\\n",
       "201    1203560567     108548        36     108548 2021-02-06 01:47:00   \n",
       "238    1203560567     235961        36     235961 2023-04-03 20:50:11   \n",
       "405    1197210433       5478        36       5478 2021-02-06 01:42:42   \n",
       "431    1197210433      24677        36      24677 2021-08-19 01:48:18   \n",
       "494    1239405989       5356        36       5356 2023-07-11 19:06:43   \n",
       "...           ...        ...       ...        ...                 ...   \n",
       "18739  1203560567     272071        36     272071 2024-01-15 13:47:33   \n",
       "18743  1001029560      14961        36      14961 2023-09-01 19:14:11   \n",
       "18873  1219484576       3663        36       3663 2023-03-11 14:57:31   \n",
       "19224  1203560567     232822        36     232822 2023-03-13 14:53:24   \n",
       "19239  1160971567       4128        36       4128 2024-03-14 15:55:29   \n",
       "\n",
       "               DatePosted                                        MessageText  \\\n",
       "201   2020-11-12 15:15:41  \"??????#BELU #инсайдер  ПАО \"\"Белуга Групп\"\" -...   \n",
       "238   2023-04-03 19:08:18  ❗️🇷🇺🇺🇸 #рынки #ожидания #россия #сша  Нефтегаз...   \n",
       "405   2020-04-29 21:29:01  ?? Что было сегодня?  ?? СД Белуги рекомендова...   \n",
       "431   2021-08-18 17:36:03  #BELU ⚡️ Белуга (BELU) планирует наращивать ин...   \n",
       "494   2023-07-11 14:41:57  🟢 Новости к этому часу   ⚪️ Потребительские це...   \n",
       "...                   ...                                                ...   \n",
       "18739 2024-01-15 10:36:10  🇷🇺#BELU #отчетность  Nobaev Group - операционн...   \n",
       "18743 2023-09-01 14:12:29  💸 Дивидендные отсечки в сентябре. От каких ком...   \n",
       "18873 2023-03-11 10:30:39  10 марта «Белуга групп» раскрыла ключевые резу...   \n",
       "19224 2023-03-13 09:44:22  💥🇷🇺#BELU #дивиденд  сд Белуга рекомендует 400 ...   \n",
       "19239 2024-03-14 14:00:23  🍷 В Белуге риск цены  При падении в 2023 году ...   \n",
       "\n",
       "       IsForward  \n",
       "201        False  \n",
       "238        False  \n",
       "405        False  \n",
       "431        False  \n",
       "494        False  \n",
       "...          ...  \n",
       "18739      False  \n",
       "18743      False  \n",
       "18873      False  \n",
       "19224      False  \n",
       "19239      False  \n",
       "\n",
       "[256 rows x 8 columns]"
      ]
     },
     "execution_count": 387,
     "metadata": {},
     "output_type": "execute_result"
    }
   ],
   "source": [
    "mentions_texts[mentions_texts['issuerid']==36]"
   ]
  },
  {
   "cell_type": "code",
   "execution_count": 388,
   "metadata": {},
   "outputs": [
    {
     "data": {
      "text/plain": [
       "'\"#PLZL #ALRS ПАО \"\"Полюс\"\", АК \"\"АЛРОСА\"\" и руководство Якутии заключили соглашение о сотрудничестве, передает корреспондент \"\"Интерфакса\"\" с церемонии подписания.    Необходимость соглашения связана с планами \"\"Полюса\"\" по разработке местоположений в Иркутской области - Сухой Лог и Чертово Корыто.    В числе прочего стороны договорились рассмотреть возможность строительства в Якутии газовой электростанции, в качестве основного топлива для которой будет использован газ со Среднеботуобинского нефтегазоконденсатного месторождения \"\"АЛРОСА-Газ\"\". По предварительным оценкам, мощность новой электростанции может составить до 200 МВт с годовым потреблением до 300 млн куб. м газа.\"'"
      ]
     },
     "execution_count": 388,
     "metadata": {},
     "output_type": "execute_result"
    }
   ],
   "source": [
    "mentions_texts[mentions_texts['issuerid']==4]['MessageText'].values[0]"
   ]
  },
  {
   "cell_type": "code",
   "execution_count": 389,
   "metadata": {},
   "outputs": [
    {
     "data": {
      "text/plain": [
       "'#BELU ⚡️ Белуга (BELU) планирует наращивать инвестиции в неводочные категории - Мечетин'"
      ]
     },
     "execution_count": 389,
     "metadata": {},
     "output_type": "execute_result"
    }
   ],
   "source": [
    "mentions_texts[mentions_texts['issuerid']==36]['MessageText'].values[3]"
   ]
  },
  {
   "cell_type": "code",
   "execution_count": 390,
   "metadata": {},
   "outputs": [
    {
     "data": {
      "text/plain": [
       "0         90\n",
       "1         57\n",
       "2        152\n",
       "3        112\n",
       "4        115\n",
       "        ... \n",
       "19350    116\n",
       "19351    218\n",
       "19352    227\n",
       "19353    115\n",
       "19354     88\n",
       "Name: issuerid, Length: 19355, dtype: int64"
      ]
     },
     "execution_count": 390,
     "metadata": {},
     "output_type": "execute_result"
    }
   ],
   "source": [
    "mentions_texts['issuerid']"
   ]
  },
  {
   "cell_type": "code",
   "execution_count": 391,
   "metadata": {},
   "outputs": [
    {
     "name": "stdout",
     "output_type": "stream",
     "text": [
      "<class 'pandas.core.frame.DataFrame'>\n",
      "RangeIndex: 19355 entries, 0 to 19354\n",
      "Data columns (total 8 columns):\n",
      " #   Column       Non-Null Count  Dtype         \n",
      "---  ------       --------------  -----         \n",
      " 0   ChannelID    19355 non-null  int64         \n",
      " 1   messageid    19355 non-null  int64         \n",
      " 2   issuerid     19355 non-null  int64         \n",
      " 3   MessageID    19355 non-null  int64         \n",
      " 4   DateAdded    19355 non-null  datetime64[ns]\n",
      " 5   DatePosted   19355 non-null  datetime64[ns]\n",
      " 6   MessageText  19355 non-null  object        \n",
      " 7   IsForward    19355 non-null  bool          \n",
      "dtypes: bool(1), datetime64[ns](2), int64(4), object(1)\n",
      "memory usage: 1.1+ MB\n"
     ]
    }
   ],
   "source": [
    "mentions_texts.info()"
   ]
  },
  {
   "cell_type": "code",
   "execution_count": 392,
   "metadata": {},
   "outputs": [
    {
     "data": {
      "text/plain": [
       "issuerid\n",
       "-2         1\n",
       " 2        85\n",
       " 4       478\n",
       " 7      1112\n",
       " 11      453\n",
       "        ... \n",
       " 269       5\n",
       " 270      15\n",
       " 271      23\n",
       " 273      24\n",
       " 274       5\n",
       "Name: count, Length: 123, dtype: int64"
      ]
     },
     "execution_count": 392,
     "metadata": {},
     "output_type": "execute_result"
    }
   ],
   "source": [
    "mentions_texts.groupby(['issuerid'])['issuerid'].value_counts()"
   ]
  },
  {
   "cell_type": "code",
   "execution_count": 393,
   "metadata": {},
   "outputs": [
    {
     "data": {
      "text/plain": [
       "<Axes: ylabel='count'>"
      ]
     },
     "execution_count": 393,
     "metadata": {},
     "output_type": "execute_result"
    },
    {
     "data": {
      "image/png": "[encoded data removed]",
      "text/plain": [
       "<Figure size 640x480 with 1 Axes>"
      ]
     },
     "metadata": {},
     "output_type": "display_data"
    }
   ],
   "source": [
    "mentions_texts.groupby(['issuerid'])['issuerid'].value_counts().plot(kind='pie', y='value_column')"
   ]
  },
  {
   "cell_type": "code",
   "execution_count": 394,
   "metadata": {},
   "outputs": [],
   "source": [
    "slova = pd.read_excel('/home/yagor/Рабочий стол/gagrin/names and synonyms.xlsx', index_col=0)"
   ]
  },
  {
   "cell_type": "code",
   "execution_count": 395,
   "metadata": {},
   "outputs": [
    {
     "data": {
      "text/html": [
       "<div>\n",
       "<style scoped>\n",
       "    .dataframe tbody tr th:only-of-type {\n",
       "        vertical-align: middle;\n",
       "    }\n",
       "\n",
       "    .dataframe tbody tr th {\n",
       "        vertical-align: top;\n",
       "    }\n",
       "\n",
       "    .dataframe thead th {\n",
       "        text-align: right;\n",
       "    }\n",
       "</style>\n",
       "<table border=\"1\" class=\"dataframe\">\n",
       "  <thead>\n",
       "    <tr style=\"text-align: right;\">\n",
       "      <th></th>\n",
       "      <th>EMITENT_FULL_NAME</th>\n",
       "      <th>VeryOddCompany</th>\n",
       "      <th>BGTicker</th>\n",
       "      <th>BGTicker.1</th>\n",
       "      <th>Unnamed: 5</th>\n",
       "      <th>Unnamed: 6</th>\n",
       "      <th>Unnamed: 7</th>\n",
       "      <th>Unnamed: 8</th>\n",
       "      <th>Unnamed: 9</th>\n",
       "      <th>Unnamed: 10</th>\n",
       "      <th>Unnamed: 11</th>\n",
       "      <th>Unnamed: 12</th>\n",
       "      <th>Unnamed: 13</th>\n",
       "      <th>Unnamed: 14</th>\n",
       "    </tr>\n",
       "    <tr>\n",
       "      <th>issuerid</th>\n",
       "      <th></th>\n",
       "      <th></th>\n",
       "      <th></th>\n",
       "      <th></th>\n",
       "      <th></th>\n",
       "      <th></th>\n",
       "      <th></th>\n",
       "      <th></th>\n",
       "      <th></th>\n",
       "      <th></th>\n",
       "      <th></th>\n",
       "      <th></th>\n",
       "      <th></th>\n",
       "      <th></th>\n",
       "    </tr>\n",
       "  </thead>\n",
       "  <tbody>\n",
       "    <tr>\n",
       "      <th>1</th>\n",
       "      <td>Акционерный коммерческий банк \"Держава\" публич...</td>\n",
       "      <td>NaN</td>\n",
       "      <td>NaN</td>\n",
       "      <td>DERZP</td>\n",
       "      <td>Держава</td>\n",
       "      <td>DERZHAVA</td>\n",
       "      <td>DERZ</td>\n",
       "      <td>NaN</td>\n",
       "      <td>NaN</td>\n",
       "      <td>NaN</td>\n",
       "      <td>NaN</td>\n",
       "      <td>NaN</td>\n",
       "      <td>NaN</td>\n",
       "      <td>NaN</td>\n",
       "    </tr>\n",
       "    <tr>\n",
       "      <th>2</th>\n",
       "      <td>\"МОСКОВСКИЙ КРЕДИТНЫЙ БАНК\" (публичное акционе...</td>\n",
       "      <td>NaN</td>\n",
       "      <td>CBOM RX</td>\n",
       "      <td>NaN</td>\n",
       "      <td>Московский кредитный банк</td>\n",
       "      <td>мкб</td>\n",
       "      <td>Credit Bank of Moscow</td>\n",
       "      <td>Credit Bank</td>\n",
       "      <td>NaN</td>\n",
       "      <td>NaN</td>\n",
       "      <td>NaN</td>\n",
       "      <td>NaN</td>\n",
       "      <td>NaN</td>\n",
       "      <td>NaN</td>\n",
       "    </tr>\n",
       "    <tr>\n",
       "      <th>3</th>\n",
       "      <td>\"Российский акционерный коммерческий дорожный ...</td>\n",
       "      <td>NaN</td>\n",
       "      <td>NaN</td>\n",
       "      <td>RDRB</td>\n",
       "      <td>Российский акционерный коммерческий дорожный банк</td>\n",
       "      <td>РДБанк</td>\n",
       "      <td>Дорожный банк</td>\n",
       "      <td>Russian public joint-stock commercial roads Bank</td>\n",
       "      <td>RosDorBank</td>\n",
       "      <td>РосДорБанк</td>\n",
       "      <td>roads Bank</td>\n",
       "      <td>NaN</td>\n",
       "      <td>NaN</td>\n",
       "      <td>NaN</td>\n",
       "    </tr>\n",
       "    <tr>\n",
       "      <th>4</th>\n",
       "      <td>Акционерная компания \"АЛРОСА\" (публичное акцио...</td>\n",
       "      <td>NaN</td>\n",
       "      <td>ALRS RX</td>\n",
       "      <td>NaN</td>\n",
       "      <td>алроса</td>\n",
       "      <td>alrosa</td>\n",
       "      <td>NaN</td>\n",
       "      <td>NaN</td>\n",
       "      <td>NaN</td>\n",
       "      <td>NaN</td>\n",
       "      <td>NaN</td>\n",
       "      <td>NaN</td>\n",
       "      <td>NaN</td>\n",
       "      <td>NaN</td>\n",
       "    </tr>\n",
       "    <tr>\n",
       "      <th>5</th>\n",
       "      <td>Акционерный Коммерческий банк \"АВАНГАРД\" - пуб...</td>\n",
       "      <td>NaN</td>\n",
       "      <td>NaN</td>\n",
       "      <td>AVAN</td>\n",
       "      <td>Авангард</td>\n",
       "      <td>AVANGARD</td>\n",
       "      <td>NaN</td>\n",
       "      <td>NaN</td>\n",
       "      <td>NaN</td>\n",
       "      <td>NaN</td>\n",
       "      <td>NaN</td>\n",
       "      <td>NaN</td>\n",
       "      <td>NaN</td>\n",
       "      <td>NaN</td>\n",
       "    </tr>\n",
       "    <tr>\n",
       "      <th>...</th>\n",
       "      <td>...</td>\n",
       "      <td>...</td>\n",
       "      <td>...</td>\n",
       "      <td>...</td>\n",
       "      <td>...</td>\n",
       "      <td>...</td>\n",
       "      <td>...</td>\n",
       "      <td>...</td>\n",
       "      <td>...</td>\n",
       "      <td>...</td>\n",
       "      <td>...</td>\n",
       "      <td>...</td>\n",
       "      <td>...</td>\n",
       "      <td>...</td>\n",
       "    </tr>\n",
       "    <tr>\n",
       "      <th>270</th>\n",
       "      <td>Henderson</td>\n",
       "      <td>NaN</td>\n",
       "      <td>NaN</td>\n",
       "      <td>HNFG</td>\n",
       "      <td>Хендерсон</td>\n",
       "      <td>NaN</td>\n",
       "      <td>NaN</td>\n",
       "      <td>NaN</td>\n",
       "      <td>NaN</td>\n",
       "      <td>NaN</td>\n",
       "      <td>NaN</td>\n",
       "      <td>NaN</td>\n",
       "      <td>NaN</td>\n",
       "      <td>NaN</td>\n",
       "    </tr>\n",
       "    <tr>\n",
       "      <th>271</th>\n",
       "      <td>Совкомбанк</td>\n",
       "      <td>NaN</td>\n",
       "      <td>NaN</td>\n",
       "      <td>SVCB</td>\n",
       "      <td>Sovcombank</td>\n",
       "      <td>NaN</td>\n",
       "      <td>NaN</td>\n",
       "      <td>NaN</td>\n",
       "      <td>NaN</td>\n",
       "      <td>NaN</td>\n",
       "      <td>NaN</td>\n",
       "      <td>NaN</td>\n",
       "      <td>NaN</td>\n",
       "      <td>NaN</td>\n",
       "    </tr>\n",
       "    <tr>\n",
       "      <th>272</th>\n",
       "      <td>ЕвроТранс</td>\n",
       "      <td>NaN</td>\n",
       "      <td>NaN</td>\n",
       "      <td>EUTR</td>\n",
       "      <td>АЗС Трасса</td>\n",
       "      <td>АЗС \"Трасса\"</td>\n",
       "      <td>АЗС «Трасса»</td>\n",
       "      <td>NaN</td>\n",
       "      <td>NaN</td>\n",
       "      <td>NaN</td>\n",
       "      <td>NaN</td>\n",
       "      <td>NaN</td>\n",
       "      <td>NaN</td>\n",
       "      <td>NaN</td>\n",
       "    </tr>\n",
       "    <tr>\n",
       "      <th>273</th>\n",
       "      <td>Делимобиль</td>\n",
       "      <td>NaN</td>\n",
       "      <td>NaN</td>\n",
       "      <td>DELI</td>\n",
       "      <td>Делимобил</td>\n",
       "      <td>Каршеринг Рус</td>\n",
       "      <td>delimobil</td>\n",
       "      <td>ПАО \"Каршеринг Руссия\"</td>\n",
       "      <td>\"Каршеринг Руссия\", ПАО</td>\n",
       "      <td>NaN</td>\n",
       "      <td>NaN</td>\n",
       "      <td>NaN</td>\n",
       "      <td>NaN</td>\n",
       "      <td>NaN</td>\n",
       "    </tr>\n",
       "    <tr>\n",
       "      <th>274</th>\n",
       "      <td>Диасофт</td>\n",
       "      <td>NaN</td>\n",
       "      <td>NaN</td>\n",
       "      <td>DIAS</td>\n",
       "      <td>Diasoft</td>\n",
       "      <td>NaN</td>\n",
       "      <td>NaN</td>\n",
       "      <td>NaN</td>\n",
       "      <td>NaN</td>\n",
       "      <td>NaN</td>\n",
       "      <td>NaN</td>\n",
       "      <td>NaN</td>\n",
       "      <td>NaN</td>\n",
       "      <td>NaN</td>\n",
       "    </tr>\n",
       "  </tbody>\n",
       "</table>\n",
       "<p>255 rows × 14 columns</p>\n",
       "</div>"
      ],
      "text/plain": [
       "                                          EMITENT_FULL_NAME  VeryOddCompany  \\\n",
       "issuerid                                                                      \n",
       "1         Акционерный коммерческий банк \"Держава\" публич...             NaN   \n",
       "2         \"МОСКОВСКИЙ КРЕДИТНЫЙ БАНК\" (публичное акционе...             NaN   \n",
       "3         \"Российский акционерный коммерческий дорожный ...             NaN   \n",
       "4         Акционерная компания \"АЛРОСА\" (публичное акцио...             NaN   \n",
       "5         Акционерный Коммерческий банк \"АВАНГАРД\" - пуб...             NaN   \n",
       "...                                                     ...             ...   \n",
       "270                                               Henderson             NaN   \n",
       "271                                              Совкомбанк             NaN   \n",
       "272                                               ЕвроТранс             NaN   \n",
       "273                                              Делимобиль             NaN   \n",
       "274                                                 Диасофт             NaN   \n",
       "\n",
       "         BGTicker BGTicker.1  \\\n",
       "issuerid                       \n",
       "1             NaN      DERZP   \n",
       "2         CBOM RX        NaN   \n",
       "3             NaN       RDRB   \n",
       "4         ALRS RX        NaN   \n",
       "5             NaN       AVAN   \n",
       "...           ...        ...   \n",
       "270           NaN       HNFG   \n",
       "271           NaN       SVCB   \n",
       "272           NaN       EUTR   \n",
       "273           NaN       DELI   \n",
       "274           NaN       DIAS   \n",
       "\n",
       "                                                 Unnamed: 5     Unnamed: 6  \\\n",
       "issuerid                                                                     \n",
       "1                                                   Держава       DERZHAVA   \n",
       "2                                 Московский кредитный банк            мкб   \n",
       "3         Российский акционерный коммерческий дорожный банк         РДБанк   \n",
       "4                                                    алроса         alrosa   \n",
       "5                                                  Авангард       AVANGARD   \n",
       "...                                                     ...            ...   \n",
       "270                                               Хендерсон            NaN   \n",
       "271                                              Sovcombank            NaN   \n",
       "272                                              АЗС Трасса   АЗС \"Трасса\"   \n",
       "273                                               Делимобил  Каршеринг Рус   \n",
       "274                                                 Diasoft            NaN   \n",
       "\n",
       "                     Unnamed: 7  \\\n",
       "issuerid                          \n",
       "1                          DERZ   \n",
       "2         Credit Bank of Moscow   \n",
       "3                 Дорожный банк   \n",
       "4                           NaN   \n",
       "5                           NaN   \n",
       "...                         ...   \n",
       "270                         NaN   \n",
       "271                         NaN   \n",
       "272                АЗС «Трасса»   \n",
       "273                   delimobil   \n",
       "274                         NaN   \n",
       "\n",
       "                                                Unnamed: 8  \\\n",
       "issuerid                                                     \n",
       "1                                                      NaN   \n",
       "2                                              Credit Bank   \n",
       "3         Russian public joint-stock commercial roads Bank   \n",
       "4                                                      NaN   \n",
       "5                                                      NaN   \n",
       "...                                                    ...   \n",
       "270                                                    NaN   \n",
       "271                                                    NaN   \n",
       "272                                                    NaN   \n",
       "273                                 ПАО \"Каршеринг Руссия\"   \n",
       "274                                                    NaN   \n",
       "\n",
       "                       Unnamed: 9 Unnamed: 10 Unnamed: 11 Unnamed: 12  \\\n",
       "issuerid                                                                \n",
       "1                             NaN         NaN         NaN         NaN   \n",
       "2                             NaN         NaN         NaN         NaN   \n",
       "3                      RosDorBank  РосДорБанк  roads Bank         NaN   \n",
       "4                             NaN         NaN         NaN         NaN   \n",
       "5                             NaN         NaN         NaN         NaN   \n",
       "...                           ...         ...         ...         ...   \n",
       "270                           NaN         NaN         NaN         NaN   \n",
       "271                           NaN         NaN         NaN         NaN   \n",
       "272                           NaN         NaN         NaN         NaN   \n",
       "273       \"Каршеринг Руссия\", ПАО         NaN         NaN         NaN   \n",
       "274                           NaN         NaN         NaN         NaN   \n",
       "\n",
       "         Unnamed: 13 Unnamed: 14  \n",
       "issuerid                          \n",
       "1                NaN         NaN  \n",
       "2                NaN         NaN  \n",
       "3                NaN         NaN  \n",
       "4                NaN         NaN  \n",
       "5                NaN         NaN  \n",
       "...              ...         ...  \n",
       "270              NaN         NaN  \n",
       "271              NaN         NaN  \n",
       "272              NaN         NaN  \n",
       "273              NaN         NaN  \n",
       "274              NaN         NaN  \n",
       "\n",
       "[255 rows x 14 columns]"
      ]
     },
     "execution_count": 395,
     "metadata": {},
     "output_type": "execute_result"
    }
   ],
   "source": [
    "slova"
   ]
  },
  {
   "cell_type": "code",
   "execution_count": 396,
   "metadata": {},
   "outputs": [
    {
     "data": {
      "text/plain": [
       "'INARCTICA'"
      ]
     },
     "execution_count": 396,
     "metadata": {},
     "output_type": "execute_result"
    }
   ],
   "source": [
    "slova.loc[261, 'EMITENT_FULL_NAME']"
   ]
  },
  {
   "cell_type": "code",
   "execution_count": 397,
   "metadata": {},
   "outputs": [],
   "source": [
    "import re"
   ]
  },
  {
   "cell_type": "code",
   "execution_count": 398,
   "metadata": {},
   "outputs": [],
   "source": [
    "s = 'Акционерная компания \"АЛРОСА\"'"
   ]
  },
  {
   "cell_type": "code",
   "execution_count": 399,
   "metadata": {},
   "outputs": [],
   "source": [
    "def search_name(x):\n",
    "    matches = re.findall(r'\"(.+?)\"',x)\n",
    "    if len(matches)==1:\n",
    "        return matches[0]\n",
    "    elif len(matches)==0:\n",
    "        if len(x.split())>4:\n",
    "            if 'The Bank of New York Mellon' in x:\n",
    "                index_value = x.find('(э')\n",
    "                if index_value!=-1:\n",
    "                    # print(x[:index_value-1])\n",
    "                    print(x[:index_value-1])\n",
    "                    return x[:index_value-1]\n",
    "                else:\n",
    "                    return x\n",
    "            else:\n",
    "                index_value = x.find(')')\n",
    "                if index_value!=-1:\n",
    "                    # print(x[:1+index_value])\n",
    "                    return x[:1+index_value]\n",
    "                else:\n",
    "                    # print(x)\n",
    "                    return x\n",
    "                \n",
    "                # elif 'JPMorgan Chase Bank' in x:\n",
    "\n",
    "                # elif 'Citibank N.A.' in x\n",
    "                \n",
    "                # else:\n",
    "                    # return x\n",
    "        else:\n",
    "            return x\n",
    "    else:\n",
    "        # print(x)\n",
    "        # print(matches)\n",
    "        return matches[-1]"
   ]
  },
  {
   "cell_type": "code",
   "execution_count": 400,
   "metadata": {},
   "outputs": [
    {
     "name": "stdout",
     "output_type": "stream",
     "text": [
      "ETALON GROUP PLC (ЭТАЛОН ГРУП ПИЭЛСИ)\n",
      "Fix Price Group Ltd (Фикс Прайс Груп Лтд)\n",
      "HMS HYDRAULIC MACHINES & SYSTEMS GROUP PLC (ГМС ГИДРАВЛИК МАШИНС ЭНД СИСТЕМС ГРУП ПЛС)\n",
      "АО О'КЕЙ ГРУПП\n",
      "Икс 5 Ритейл Груп Н.В. (X5 Retail Group N.V.)\n",
      "КИВИ ПиЭлСи (QIWI PLC)\n",
      "Озон Холдингс ПиЭлСи\n",
      "РОС АГРО ПЛС (ROS AGRO PLC)\n",
      "UNITED MEDICAL GROUP CY PLC (ЮНАЙТЕД МЕДИКАЛ ГРУП КИ ПИЭЛСИ)\n",
      "Softline Holding Limited\n",
      "Cian PLC\n"
     ]
    }
   ],
   "source": [
    "slova['NAME'] = slova['EMITENT_FULL_NAME'].apply(search_name)"
   ]
  },
  {
   "cell_type": "code",
   "execution_count": 401,
   "metadata": {},
   "outputs": [],
   "source": [
    "# slova[slova['EMITENT_FULL_NAME']=='Публичное акционерное общество \"Ракетно-космическая корпорация \"Энергия\" имени С.П. Королёва\"']"
   ]
  },
  {
   "cell_type": "code",
   "execution_count": 402,
   "metadata": {},
   "outputs": [],
   "source": [
    "# slova[slova['EMITENT_FULL_NAME']=='Иркутское публичное акционерное общество энергетики и электрификации']"
   ]
  },
  {
   "cell_type": "code",
   "execution_count": 403,
   "metadata": {},
   "outputs": [],
   "source": [
    "# slova[slova['EMITENT_FULL_NAME']=='Публичное акционерное общество МОСКОВСКИЙ ОБЛАСТНОЙ БАНК']"
   ]
  },
  {
   "cell_type": "code",
   "execution_count": 404,
   "metadata": {},
   "outputs": [
    {
     "data": {
      "text/plain": [
       "array(['Акционерный коммерческий банк \"Держава\" публичное акционерное общество',\n",
       "       '\"МОСКОВСКИЙ КРЕДИТНЫЙ БАНК\" (публичное акционерное общество)',\n",
       "       '\"Российский акционерный коммерческий дорожный банк\" (публичное акционерное общество)',\n",
       "       'Акционерная компания \"АЛРОСА\" (публичное акционерное общество)',\n",
       "       'Акционерный Коммерческий банк \"АВАНГАРД\" - публичное акционерное общество',\n",
       "       'акционерный коммерческий банк \"Приморье\"  (публичное акционерное общество)',\n",
       "       'Банк ВТБ (публичное акционерное общество)',\n",
       "       'Иркутское публичное акционерное общество энергетики и электрификации',\n",
       "       'Казанское публичное акционерное общество \"Органический синтез\"',\n",
       "       'Ленское золотодобывающее публичное акционерное общество \"Лензолото\"',\n",
       "       'Международная компания публичное акционерное общество \"Объединённая Компания \"РУСАЛ\"',\n",
       "       'Международная компания публичное акционерное общество \"ЭН+ ГРУП\"',\n",
       "       'Открытое акционерное общество \"Белон\"',\n",
       "       'Открытое акционерное общество \"Донской завод радиодеталей\"',\n",
       "       'Открытое акционерное общество \"Левенгук\"',\n",
       "       'Открытое акционерное общество \"Липецкая энергосбытовая компания\"',\n",
       "       'Открытое акционерное общество \"Межрегиональная распределительная сетевая компания Урала\"',\n",
       "       'Открытое акционерное общество \"Мультисистема\"',\n",
       "       'Открытое акционерное общество \"Научно-производственное объединение \"Физика\"',\n",
       "       'Открытое акционерное общество \"Соликамский магниевый завод\"',\n",
       "       'Публичное  акционерное общество \"Русская Аквакультура\"',\n",
       "       'Публичное акционерное общество \"Абрау – Дюрсо\"',\n",
       "       'Публичное акционерное общество \"Авиакомпания \"ЮТэйр\"',\n",
       "       'Публичное акционерное общество \"Акрон\"',\n",
       "       'Публичное акционерное общество \"Акционерная нефтяная Компания \"Башнефть\"',\n",
       "       'Публичное акционерное общество \"Акционерная финансовая корпорация \"Система\"',\n",
       "       'Публичное акционерное общество \"АЛРОСА-Нюрба\"',\n",
       "       'Публичное акционерное общество \"Аптечная сеть 36,6\"',\n",
       "       'Публичное акционерное общество \"АСКО-СТРАХОВАНИЕ\"',\n",
       "       'Публичное акционерное общество \"Астраханская энергосбытовая компания\"',\n",
       "       'Публичное акционерное общество \"Ашинский металлургический завод\"',\n",
       "       'Публичное акционерное общество \"Аэрофлот – российские авиалинии\"',\n",
       "       'ПУБЛИЧНОЕ АКЦИОНЕРНОЕ ОБЩЕСТВО \"БАНК \"САНКТ-ПЕТЕРБУРГ\"',\n",
       "       'Публичное акционерное общество \"БАНК УРАЛСИБ\"',\n",
       "       'Публичное акционерное общество \"Башинформсвязь\"',\n",
       "       'Публичное акционерное общество \"Белуга Групп\"',\n",
       "       'Публичное акционерное общество \"Бест Эффортс Банк\"',\n",
       "       'Публичное акционерное общество \"Бурятзолото\"',\n",
       "       'Публичное акционерное общество \"Варьеганнефтегаз\"',\n",
       "       'Публичное акционерное общество \"Владимирский химический завод\"',\n",
       "       'Публичное акционерное общество \"Волгоградэнергосбыт\"',\n",
       "       'Публичное акционерное общество \"Вторая генерирующая компания оптового рынка электроэнергии\"',\n",
       "       'Публичное акционерное общество \"Выборгский судостроительный завод\"',\n",
       "       'Публичное акционерное общество \"ГАЗ\"',\n",
       "       'Публичное акционерное общество \"ГАЗКОН\"',\n",
       "       'Публичное акционерное общество \"Газпром газораспределение Ростов-на-Дону\"',\n",
       "       'Публичное акционерное общество \"Газпром нефть\"',\n",
       "       'Публичное акционерное общество \"Газпром\"',\n",
       "       'Публичное акционерное общество \"ГАЗ-сервис\"',\n",
       "       'Публичное акционерное общество \"ГАЗ-Тек\"',\n",
       "       'Публичное акционерное общество \"ГЕОТЕК Сейсморазведка\"',\n",
       "       'Публичное акционерное общество \"ГЛОБАЛТРАК МЕНЕДЖМЕНТ\"',\n",
       "       'Публичное акционерное общество \"Горно-металлургическая компания \"Норильский никель\"',\n",
       "       'Публичное акционерное общество \"Городские Инновационные Технологии\"',\n",
       "       'Публичное акционерное общество \"Группа Компаний  \"Роллман\"',\n",
       "       'публичное акционерное общество \"Группа компаний \"Самолет\"',\n",
       "       'Публичное акционерное общество \"Группа ЛСР\"',\n",
       "       'Публичное акционерное общество \"Группа Черкизово\"',\n",
       "       'Публичное акционерное общество \"Дагестанская энергосбытовая компания\"',\n",
       "       'Публичное акционерное общество \"Дальневосточная энергетическая компания\"',\n",
       "       'Публичное акционерное общество \"Дальневосточное морское пароходство\"',\n",
       "       'Публичное акционерное общество \"Детский мир\"',\n",
       "       'Публичное акционерное общество \"ДжиТиЭл\"',\n",
       "       'Публичное акционерное общество \"Европейская Электротехника\"',\n",
       "       'Публичное акционерное общество \"Завод имени И.А. Лихачева\"',\n",
       "       'Публичное акционерное общество \"ЗВЕЗДА\"',\n",
       "       'Публичное акционерное общество \"Ижсталь\"',\n",
       "       'Публичное акционерное общество \"ИНВЕСТ-ДЕВЕЛОПМЕНТ\"',\n",
       "       'Публичное акционерное общество \"ИНВЕСТИЦИОННАЯ КОМПАНИЯ ИК РУСС-ИНВЕСТ\"',\n",
       "       'Публичное акционерное общество \"ИНГРАД\"',\n",
       "       'Публичное акционерное общество \"Институт Стволовых Клеток Человека\"',\n",
       "       'Публичное акционерное общество \"Интер РАО ЕЭС\"',\n",
       "       'Публичное акционерное общество \"Калужская сбытовая компания\"',\n",
       "       'Публичное акционерное общество \"КАМАЗ\"',\n",
       "       'Публичное акционерное общество \"Каменск-Уральский завод по обработке цветных металлов\"',\n",
       "       'Публичное акционерное общество \"Квадра - Генерирующая компания\"',\n",
       "       'публичное акционерное общество \"Ковровский механический завод\"',\n",
       "       'Публичное акционерное общество \"Кокс\"',\n",
       "       'публичное акционерное общество \"Корпорация ВСМПО-АВИСМА\"',\n",
       "       'Публичное акционерное общество \"Коршуновский горно-обогатительный комбинат\"',\n",
       "       'Публичное акционерное общество \"Косогорский металлургический завод\"',\n",
       "       'Публичное акционерное общество \"Костромская сбытовая компания\"',\n",
       "       'Публичное акционерное общество \"Краснокамский завод металлических сеток\"',\n",
       "       'Публичное акционерное общество \"Красноярскэнергосбыт\"',\n",
       "       'Публичное акционерное общество \"Кузбасская Топливная Компания\"',\n",
       "       'Публичное акционерное общество \"КуйбышевАзот\"',\n",
       "       'Публичное акционерное общество \"Курганская генерирующая компания\"',\n",
       "       'Публичное акционерное общество \"М.видео\"',\n",
       "       'Публичное акционерное общество \"Магнит\"',\n",
       "       'Публичное акционерное общество \"Магнитогорский металлургический комбинат\"',\n",
       "       'Публичное акционерное общество \"МегаФон\"',\n",
       "       'Публичное акционерное общество \"Медиахолдинг\"',\n",
       "       'Публичное акционерное общество \"Международный Медицинский Центр Обработки и Криохранения Биоматериалов\"',\n",
       "       'Публичное акционерное общество \"Межрегиональная распределительная сетевая компания Северо-Запада\"',\n",
       "       'Публичное акционерное общество \"Межрегиональная распределительная сетевая компания Центра и Приволжья\"',\n",
       "       'Публичное акционерное общество \"Межрегиональная распределительная сетевая компания Центра\"',\n",
       "       'Публичное акционерное общество \"МЕРИДИАН\"',\n",
       "       'Публичное акционерное общество \"МЕТКОМБАНК\"',\n",
       "       'Публичное акционерное общество \"Мечел\"',\n",
       "       'Публичное акционерное общество \"Мобильные ТелеСистемы\"',\n",
       "       'Публичное акционерное общество \"Мордовская энергосбытовая компания\"',\n",
       "       'Публичное акционерное общество \"Морион\"',\n",
       "       'Публичное акционерное общество \"Московская Биржа ММВБ-РТС\"',\n",
       "       'Публичное акционерное общество \"Московская городская телефонная сеть\"',\n",
       "       'Публичное акционерное общество \"Московская кондитерская фабрика \"Красный Октябрь\"',\n",
       "       'Публичное акционерное общество \"МОСТОТРЕСТ\"',\n",
       "       'Публичное акционерное общество \"Наука-Связь\"',\n",
       "       'публичное акционерное общество \"Научно-производственная корпорация \"Иркут\"',\n",
       "       'Публичное акционерное общество \"Научно-производственная корпорация \"Объединенная Вагонная Компания\"',\n",
       "       'Публичное акционерное общество \"Нефтекамский автозавод\"',\n",
       "       'Публичное акционерное общество \"Нефтяная компания \"ЛУКОЙЛ\"',\n",
       "       'публичное акционерное общество \"Нефтяная компания \"Роснефть\"',\n",
       "       'Публичное Акционерное Общество \"Нижнекамскнефтехим\"',\n",
       "       'Публичное акционерное общество \"Нижнекамскшина\"',\n",
       "       'публичное акционерное общество \"НОВАТЭК\"',\n",
       "       'Публичное акционерное общество \"Новолипецкий металлургический комбинат\"',\n",
       "       'Публичное акционерное общество \"Новороссийский комбинат хлебопродуктов\"',\n",
       "       'Публичное акционерное общество \"Новороссийский морской торговый порт\"',\n",
       "       'Публичное акционерное общество \"Новороссийское морское пароходство\"',\n",
       "       'Публичное акционерное общество \"Объединенная авиастроительная корпорация\"',\n",
       "       'Публичное акционерное общество \"Объединенные Кредитные Системы\"',\n",
       "       'Публичное акционерное общество \"ОДК-Сатурн\"',\n",
       "       'Публичное акционерное общество \"ОР\"',\n",
       "       'Публичное акционерное общество \"Павловский автобус\"',\n",
       "       'Публичное акционерное общество \"Пермская энергосбытовая компания\"',\n",
       "       'Публичное акционерное общество \"ПИК-специализированный застройщик\"',\n",
       "       'Публичное акционерное общество \"Полюс\"',\n",
       "       'Публичное акционерное общество \"Ракетно-космическая корпорация \"Энергия\" имени С.П. Королёва\"',\n",
       "       'Публичное акционерное общество \"Распадская\"',\n",
       "       'Публичное акционерное общество \"РБК\"',\n",
       "       'Публичное акционерное общество \"РН-Западная Сибирь\"',\n",
       "       'Публичное акционерное общество \"Росгосстрах Банк\"',\n",
       "       'Публичное акционерное общество \"РОСИНТЕР РЕСТОРАНТС ХОЛДИНГ\"',\n",
       "       'Публичное акционерное общество \"Россети Волга\"',\n",
       "       'Публичное акционерное общество \"Россети Кубань\"',\n",
       "       'Публичное акционерное общество \"Россети Ленэнерго\"',\n",
       "       'Публичное акционерное общество \"Россети Московский регион\"',\n",
       "       'Публичное акционерное общество \"Россети Северный Кавказ\"',\n",
       "       'Публичное акционерное общество \"Россети Сибирь\"',\n",
       "       'Публичное акционерное общество \"Россети Юг\"',\n",
       "       'Публичное акционерное общество \"Российские сети\"',\n",
       "       'Публичное акционерное общество \"Ростелеком\"',\n",
       "       'Публичное акционерное общество \"Русгрэйн Холдинг\"',\n",
       "       'Публичное акционерное общество \"Русолово\"',\n",
       "       'Публичное акционерное общество \"Русполимет\"',\n",
       "       'Публичное акционерное общество \"Рязанская энергетическая сбытовая компания\"',\n",
       "       'Публичное акционерное общество \"Саратовский нефтеперерабатывающий завод\"',\n",
       "       'Публичное акционерное общество \"Саратовэнерго\"',\n",
       "       'Публичное акционерное общество \"САФМАР Финансовые инвестиции\"',\n",
       "       'Публичное акционерное общество \"Сбербанк России\"',\n",
       "       'Публичное акционерное общество \"Светофор Групп\"',\n",
       "       'Публичное акционерное общество \"Северсталь\"',\n",
       "       'Публичное акционерное общество \"Селигдар\"',\n",
       "       'Публичное Акционерное Общество \"Сибирский гостинец\"',\n",
       "       'Публичное акционерное общество \"Славнефть - Мегионнефтегаз\"',\n",
       "       'Публичное акционерное общество \"Славнефть-Ярославнефтеоргсинтез\"',\n",
       "       'Публичное акционерное общество \"Современный коммерческий флот\"',\n",
       "       'Публичное акционерное общество \"СОЛЛЕРС\"',\n",
       "       'Публичное акционерное общество \"Ставропольэнергосбыт\"',\n",
       "       'Публичное акционерное общество \"Сургутнефтегаз\"',\n",
       "       'Публичное акционерное общество \"Таганрогский котлостроительный завод \"Красный котельщик\"',\n",
       "       'Публичное акционерное общество \"Тамбовская энергосбытовая компания\"',\n",
       "       'Публичное акционерное общество \"Татнефть\" имени В.Д. Шашина',\n",
       "       'Публичное акционерное общество \"Таттелеком\"',\n",
       "       'Публичное акционерное общество \"Территориальная генерирующая компания № 14\"',\n",
       "       'Публичное акционерное общество \"Территориальная генерирующая компания №1\"',\n",
       "       'Публичное акционерное общество \"Территориальная генерирующая компания №2\"',\n",
       "       'Публичное акционерное общество \"ТНС энерго Воронеж\"',\n",
       "       'Публичное акционерное общество \"ТНС энерго Кубань\"',\n",
       "       'Публичное акционерное общество \"ТНС энерго Марий Эл\"',\n",
       "       'Публичное акционерное общество \"ТНС энерго Нижний Новгород\"',\n",
       "       'Публичное акционерное общество \"ТНС энерго Ростов-на-Дону\"',\n",
       "       'Публичное акционерное общество \"ТНС энерго Ярославль\"',\n",
       "       'Публичное акционерное общество \"Томская распределительная компания\"',\n",
       "       'Публичное акционерное общество \"Транснефть\"',\n",
       "       'Публичное акционерное общество \"ТрансФин-М\"',\n",
       "       'Публичное акционерное общество \"Трубная Металлургическая Компания\"',\n",
       "       'Публичное акционерное общество \"Туймазинский завод автобетоновозов\"',\n",
       "       'Публичное акционерное общество \"Тучковский комбинат строительных материалов\"',\n",
       "       'Публичное акционерное общество \"Угольная компания \"Южный Кузбасс\"',\n",
       "       'ПУБЛИЧНОЕ АКЦИОНЕРНОЕ ОБЩЕСТВО \"УПРАВЛЯЮЩАЯ КОМПАНИЯ \"АРСАГЕРА\"',\n",
       "       'Публичное акционерное общество \"Уралкалий\"',\n",
       "       'Публичное акционерное общество \"Уральская кузница\"',\n",
       "       'Публичное акционерное общество \"Фармсинтез\"',\n",
       "       'Публичное акционерное общество \"Федеральная гидрогенерирующая компания - РусГидро\"',\n",
       "       'Публичное акционерное общество \"Федеральная сетевая компания Единой энергетической системы\"',\n",
       "       'Публичное акционерное общество \"ФосАгро\"',\n",
       "       'Публичное акционерное общество \"Химпром\"',\n",
       "       'Публичное акционерное общество \"Центр международной торговли\"',\n",
       "       'Публичное акционерное общество \"Центр по перевозке грузов в контейнерах \"ТрансКонтейнер\"',\n",
       "       'Публичное акционерное общество \"Центральный телеграф\"',\n",
       "       'Публичное акционерное общество \"Челябинский завод профилированного стального настила\"',\n",
       "       'Публичное акционерное общество \"Челябинский кузнечно-прессовый завод\"',\n",
       "       'Публичное акционерное общество \"Челябинский металлургический комбинат\"',\n",
       "       'Публичное акционерное общество \"Челябинский трубопрокатный завод\"',\n",
       "       'Публичное акционерное общество \"Электроцинк\"',\n",
       "       'Публичное акционерное общество \"Энел Россия\"',\n",
       "       'Публичное акционерное общество \"Южно-Уральский никелевый комбинат\"',\n",
       "       'Публичное акционерное общество \"Юнипро\"',\n",
       "       'Публичное акционерное общество \"Якутская топливно-энергетическая компания\"',\n",
       "       'Публичное акционерное общество \"Якутскэнерго\"',\n",
       "       'Публичное акционерное общество Банк \"Возрождение\"',\n",
       "       'Публичное акционерное общество Банк \"Кузнецкий\"',\n",
       "       'Публичное акционерное общество Группа компаний \"Сегежа\"',\n",
       "       'Публичное акционерное общество Группа компаний \"ТНС энерго\"',\n",
       "       'Публичное акционерное общество Завод экологической техники и экопитания \"ДИОД\"',\n",
       "       'Публичное акционерное общество МОСКОВСКИЙ ОБЛАСТНОЙ БАНК',\n",
       "       'Публичное акционерное общество Научно-производственное объединение \"Наука\"',\n",
       "       'Публичное акционерное общество Нефтегазовая компания \"РуссНефть\"',\n",
       "       'Публичное акционерное общество Объединенные машиностроительные заводы (Группа Уралмаш-Ижора)',\n",
       "       'Публичное акционерное общество РОСБАНК',\n",
       "       'Публичное акционерное общество Страховая Компания \"Росгосстрах\"',\n",
       "       'Публичное акционерное общество энергетики и электрификации \"Камчатскэнерго\"',\n",
       "       'Публичное акционерное общество энергетики и электрификации \"Магаданэнерго\"',\n",
       "       'Публичное акционерное общество энергетики и электрификации \"Мосэнерго\"',\n",
       "       'Публичное акционерное общество энергетики и электрификации \"Самараэнерго\"',\n",
       "       'Публичное акционерное общество энергетики и электрификации \"Сахалинэнерго\"',\n",
       "       'ETALON GROUP PLC (ЭТАЛОН ГРУП ПИЭЛСИ) (эмитент депозитарных расписок - The Bank of New York Mellon (Бэнк оф Нью Йорк Меллон))',\n",
       "       'Fix Price Group Ltd (Фикс Прайс Груп Лтд) (эмитент депозитарных расписок - The Bank of New York Mellon (Бэнк оф Нью Йорк Меллон))',\n",
       "       'Globaltrans Investment PLC (Глобалтранс Инвестмент ПЛС) (эмитент депозитарных расписок - Citibank N.A. (Ситибэнк Эн.Эй))',\n",
       "       'HeadHunter Group PLC (ХэдХантер Групп ПИЭЛСИ) (эмитент депозитарных расписок - JPMorgan Chase Bank, N.A. (ДжиПиМорган Чейз Банк, Эн.Эй))',\n",
       "       'HMS HYDRAULIC MACHINES & SYSTEMS GROUP PLC (ГМС ГИДРАВЛИК МАШИНС ЭНД СИСТЕМС ГРУП ПЛС) (эмитент депозитарных расписок - The Bank of New York Mellon (Бэнк оф Нью Йорк Меллон))',\n",
       "       'Mail.ru Group Limited (Мэйл.ру Груп Лимитед) (эмитент депозитарных расписок - Citibank N.A. (Ситибэнк Эн.Эй))',\n",
       "       'MD MEDICAL GROUP INVESTMENTS PLC (МД МЕДИКАЛ ГРУП ИНВЕСТМЕНТС ПЛС) (эмитент депозитарных расписок - JPMorgan Chase Bank, N.A. (ДжиПиМорган Чейз Банк, Эн.Эй))',\n",
       "       'TCS Group Holding PLC (ТиСиЭс Груп Холдинг ПиЭлСи) (эмитент депозитарных расписок - JPMorgan Chase Bank, N.A. (ДжиПиМорган Чейз Банк, Эн.Эй))',\n",
       "       \"АО О'КЕЙ ГРУПП (эмитент депозитарных расписок - The Bank of New York Mellon (Бэнк оф Нью Йорк Меллон))\",\n",
       "       'Икс 5 Ритейл Груп Н.В. (X5 Retail Group N.V.) (эмитент депозитарных расписок - The Bank of New York Mellon (Бэнк оф Нью Йорк Меллон))',\n",
       "       'КИВИ ПиЭлСи (QIWI PLC) (эмитент депозитарных расписок - The Bank of New York Mellon (Бэнк оф Нью Йорк Меллон))',\n",
       "       'Международная компания публичное акционерное общество \"Лента\" (эмитент депозитарных расписок - Deutsche Bank Trust Company Americas (Дойче Банк Траст Кампани Америкас))',\n",
       "       'Озон Холдингс ПиЭлСи (эмитент депозитарных расписок - The Bank of New York Mellon (Бэнк оф Нью Йорк Меллон))',\n",
       "       'РОС АГРО ПЛС (ROS AGRO PLC) (эмитент депозитарных расписок - The Bank of New York Mellon (Бэнк оф Нью Йорк Меллон))',\n",
       "       'Nord Gold PLC (Норд Голд ПЛК)',\n",
       "       'UNITED MEDICAL GROUP CY PLC (ЮНАЙТЕД МЕДИКАЛ ГРУП КИ ПИЭЛСИ) (эмитент депозитарных расписок - The Bank of New York Mellon Corporation (Зе Бэнк оф Нью Йорк Меллон Корпорэйшн))',\n",
       "       'Petropavlovsk PLC (Петропавловск ПЛК)',\n",
       "       'Полиметалл Интернэшнл плс (Polymetal International plc)',\n",
       "       'Публичная Компания с ограниченной ответственностью Яндекс Н.В. (Public Limited Liability Company Yandex N.V.)',\n",
       "       'Softline Holding Limited (эмитент депозитарных расписок - The Bank of New York Mellon Corporation (Зе Бэнк оф Нью Йорк Меллон Корпорэйшн))',\n",
       "       'VEON Ltd.', 'Публичное акционерное общество \"Группа Позитив\"',\n",
       "       'Cian PLC (эмитент депозитарных расписок - The Bank of New York Mellon)',\n",
       "       'Публичное акционерное общество \"ВУШ Холдинг\"',\n",
       "       'Публичное акционерное общество \"СПБ Биржа\"', 'Global Ports',\n",
       "       'Публичное акционерное общество \"Группа Ренессанс Страхование\"',\n",
       "       'Astra Linux', 'INARCTICA', 'ЮЖУРАЛЗОЛОТО', 'Artgen biotech',\n",
       "       'Генетико', 'CarMoney', 'Henderson', 'Совкомбанк', 'ЕвроТранс',\n",
       "       'Делимобиль', 'Диасофт'], dtype=object)"
      ]
     },
     "execution_count": 404,
     "metadata": {},
     "output_type": "execute_result"
    }
   ],
   "source": [
    "slova['EMITENT_FULL_NAME'].values"
   ]
  },
  {
   "cell_type": "code",
   "execution_count": 405,
   "metadata": {},
   "outputs": [
    {
     "data": {
      "text/html": [
       "<div>\n",
       "<style scoped>\n",
       "    .dataframe tbody tr th:only-of-type {\n",
       "        vertical-align: middle;\n",
       "    }\n",
       "\n",
       "    .dataframe tbody tr th {\n",
       "        vertical-align: top;\n",
       "    }\n",
       "\n",
       "    .dataframe thead th {\n",
       "        text-align: right;\n",
       "    }\n",
       "</style>\n",
       "<table border=\"1\" class=\"dataframe\">\n",
       "  <thead>\n",
       "    <tr style=\"text-align: right;\">\n",
       "      <th></th>\n",
       "      <th>EMITENT_FULL_NAME</th>\n",
       "      <th>VeryOddCompany</th>\n",
       "      <th>BGTicker</th>\n",
       "      <th>BGTicker.1</th>\n",
       "      <th>Unnamed: 5</th>\n",
       "      <th>Unnamed: 6</th>\n",
       "      <th>Unnamed: 7</th>\n",
       "      <th>Unnamed: 8</th>\n",
       "      <th>Unnamed: 9</th>\n",
       "      <th>Unnamed: 10</th>\n",
       "      <th>Unnamed: 11</th>\n",
       "      <th>Unnamed: 12</th>\n",
       "      <th>Unnamed: 13</th>\n",
       "      <th>Unnamed: 14</th>\n",
       "      <th>NAME</th>\n",
       "    </tr>\n",
       "    <tr>\n",
       "      <th>issuerid</th>\n",
       "      <th></th>\n",
       "      <th></th>\n",
       "      <th></th>\n",
       "      <th></th>\n",
       "      <th></th>\n",
       "      <th></th>\n",
       "      <th></th>\n",
       "      <th></th>\n",
       "      <th></th>\n",
       "      <th></th>\n",
       "      <th></th>\n",
       "      <th></th>\n",
       "      <th></th>\n",
       "      <th></th>\n",
       "      <th></th>\n",
       "    </tr>\n",
       "  </thead>\n",
       "  <tbody>\n",
       "    <tr>\n",
       "      <th>231</th>\n",
       "      <td>РОС АГРО ПЛС (ROS AGRO PLC) (эмитент депозитар...</td>\n",
       "      <td>NaN</td>\n",
       "      <td>AGRO RX</td>\n",
       "      <td>Русагро</td>\n",
       "      <td>Rusagro</td>\n",
       "      <td>NaN</td>\n",
       "      <td>NaN</td>\n",
       "      <td>NaN</td>\n",
       "      <td>NaN</td>\n",
       "      <td>NaN</td>\n",
       "      <td>NaN</td>\n",
       "      <td>NaN</td>\n",
       "      <td>NaN</td>\n",
       "      <td>NaN</td>\n",
       "      <td>РОС АГРО ПЛС (ROS AGRO PLC)</td>\n",
       "    </tr>\n",
       "  </tbody>\n",
       "</table>\n",
       "</div>"
      ],
      "text/plain": [
       "                                          EMITENT_FULL_NAME  VeryOddCompany  \\\n",
       "issuerid                                                                      \n",
       "231       РОС АГРО ПЛС (ROS AGRO PLC) (эмитент депозитар...             NaN   \n",
       "\n",
       "         BGTicker BGTicker.1 Unnamed: 5 Unnamed: 6 Unnamed: 7 Unnamed: 8  \\\n",
       "issuerid                                                                   \n",
       "231       AGRO RX    Русагро    Rusagro        NaN        NaN        NaN   \n",
       "\n",
       "         Unnamed: 9 Unnamed: 10 Unnamed: 11 Unnamed: 12 Unnamed: 13  \\\n",
       "issuerid                                                              \n",
       "231             NaN         NaN         NaN         NaN         NaN   \n",
       "\n",
       "         Unnamed: 14                         NAME  \n",
       "issuerid                                           \n",
       "231              NaN  РОС АГРО ПЛС (ROS AGRO PLC)  "
      ]
     },
     "execution_count": 405,
     "metadata": {},
     "output_type": "execute_result"
    }
   ],
   "source": [
    "slova[slova['EMITENT_FULL_NAME']=='РОС АГРО ПЛС (ROS AGRO PLC) (эмитент депозитарных расписок - The Bank of New York Mellon (Бэнк оф Нью Йорк Меллон))']"
   ]
  },
  {
   "cell_type": "code",
   "execution_count": 406,
   "metadata": {},
   "outputs": [
    {
     "data": {
      "text/plain": [
       "EMITENT_FULL_NAME    Публичное акционерное общество \"АЛРОСА-Нюрба\"\n",
       "VeryOddCompany                                                 NaN\n",
       "BGTicker                                                   ALNU RX\n",
       "BGTicker.1                                                     NaN\n",
       "Unnamed: 5                                                  Алроса\n",
       "Unnamed: 6                                                  Alrosa\n",
       "Unnamed: 7                                                     NaN\n",
       "Unnamed: 8                                                     NaN\n",
       "Unnamed: 9                                                     NaN\n",
       "Unnamed: 10                                                    NaN\n",
       "Unnamed: 11                                                    NaN\n",
       "Unnamed: 12                                                    NaN\n",
       "Unnamed: 13                                                    NaN\n",
       "Unnamed: 14                                                    NaN\n",
       "NAME                                                  АЛРОСА-Нюрба\n",
       "Name: 27, dtype: object"
      ]
     },
     "execution_count": 406,
     "metadata": {},
     "output_type": "execute_result"
    }
   ],
   "source": [
    "slova.loc[27, :]"
   ]
  },
  {
   "cell_type": "code",
   "execution_count": 407,
   "metadata": {},
   "outputs": [],
   "source": [
    "slova.loc[128, 'NAME'] = 'Энергия'"
   ]
  },
  {
   "cell_type": "code",
   "execution_count": 408,
   "metadata": {},
   "outputs": [
    {
     "data": {
      "text/plain": [
       "array(['Держава', 'МОСКОВСКИЙ КРЕДИТНЫЙ БАНК',\n",
       "       'Российский акционерный коммерческий дорожный банк', 'АЛРОСА',\n",
       "       'АВАНГАРД', 'Приморье',\n",
       "       'Банк ВТБ (публичное акционерное общество)',\n",
       "       'Иркутское публичное акционерное общество энергетики и электрификации',\n",
       "       'Органический синтез', 'Лензолото', 'Объединённая Компания ',\n",
       "       'ЭН+ ГРУП', 'Белон', 'Донской завод радиодеталей', 'Левенгук',\n",
       "       'Липецкая энергосбытовая компания',\n",
       "       'Межрегиональная распределительная сетевая компания Урала',\n",
       "       'Мультисистема', 'Научно-производственное объединение ',\n",
       "       'Соликамский магниевый завод', 'Русская Аквакультура',\n",
       "       'Абрау – Дюрсо', 'Авиакомпания ', 'Акрон',\n",
       "       'Акционерная нефтяная Компания ',\n",
       "       'Акционерная финансовая корпорация ', 'АЛРОСА-Нюрба',\n",
       "       'Аптечная сеть 36,6', 'АСКО-СТРАХОВАНИЕ',\n",
       "       'Астраханская энергосбытовая компания',\n",
       "       'Ашинский металлургический завод',\n",
       "       'Аэрофлот – российские авиалинии', 'БАНК ', 'БАНК УРАЛСИБ',\n",
       "       'Башинформсвязь', 'Белуга Групп', 'Бест Эффортс Банк',\n",
       "       'Бурятзолото', 'Варьеганнефтегаз', 'Владимирский химический завод',\n",
       "       'Волгоградэнергосбыт',\n",
       "       'Вторая генерирующая компания оптового рынка электроэнергии',\n",
       "       'Выборгский судостроительный завод', 'ГАЗ', 'ГАЗКОН',\n",
       "       'Газпром газораспределение Ростов-на-Дону', 'Газпром нефть',\n",
       "       'Газпром', 'ГАЗ-сервис', 'ГАЗ-Тек', 'ГЕОТЕК Сейсморазведка',\n",
       "       'ГЛОБАЛТРАК МЕНЕДЖМЕНТ', 'Горно-металлургическая компания ',\n",
       "       'Городские Инновационные Технологии', 'Группа Компаний  ',\n",
       "       'Группа компаний ', 'Группа ЛСР', 'Группа Черкизово',\n",
       "       'Дагестанская энергосбытовая компания',\n",
       "       'Дальневосточная энергетическая компания',\n",
       "       'Дальневосточное морское пароходство', 'Детский мир', 'ДжиТиЭл',\n",
       "       'Европейская Электротехника', 'Завод имени И.А. Лихачева',\n",
       "       'ЗВЕЗДА', 'Ижсталь', 'ИНВЕСТ-ДЕВЕЛОПМЕНТ',\n",
       "       'ИНВЕСТИЦИОННАЯ КОМПАНИЯ ИК РУСС-ИНВЕСТ', 'ИНГРАД',\n",
       "       'Институт Стволовых Клеток Человека', 'Интер РАО ЕЭС',\n",
       "       'Калужская сбытовая компания', 'КАМАЗ',\n",
       "       'Каменск-Уральский завод по обработке цветных металлов',\n",
       "       'Квадра - Генерирующая компания', 'Ковровский механический завод',\n",
       "       'Кокс', 'Корпорация ВСМПО-АВИСМА',\n",
       "       'Коршуновский горно-обогатительный комбинат',\n",
       "       'Косогорский металлургический завод',\n",
       "       'Костромская сбытовая компания',\n",
       "       'Краснокамский завод металлических сеток', 'Красноярскэнергосбыт',\n",
       "       'Кузбасская Топливная Компания', 'КуйбышевАзот',\n",
       "       'Курганская генерирующая компания', 'М.видео', 'Магнит',\n",
       "       'Магнитогорский металлургический комбинат', 'МегаФон',\n",
       "       'Медиахолдинг',\n",
       "       'Международный Медицинский Центр Обработки и Криохранения Биоматериалов',\n",
       "       'Межрегиональная распределительная сетевая компания Северо-Запада',\n",
       "       'Межрегиональная распределительная сетевая компания Центра и Приволжья',\n",
       "       'Межрегиональная распределительная сетевая компания Центра',\n",
       "       'МЕРИДИАН', 'МЕТКОМБАНК', 'Мечел', 'Мобильные ТелеСистемы',\n",
       "       'Мордовская энергосбытовая компания', 'Морион',\n",
       "       'Московская Биржа ММВБ-РТС',\n",
       "       'Московская городская телефонная сеть',\n",
       "       'Московская кондитерская фабрика ', 'МОСТОТРЕСТ', 'Наука-Связь',\n",
       "       'Научно-производственная корпорация ',\n",
       "       'Научно-производственная корпорация ', 'Нефтекамский автозавод',\n",
       "       'Нефтяная компания ', 'Нефтяная компания ', 'Нижнекамскнефтехим',\n",
       "       'Нижнекамскшина', 'НОВАТЭК',\n",
       "       'Новолипецкий металлургический комбинат',\n",
       "       'Новороссийский комбинат хлебопродуктов',\n",
       "       'Новороссийский морской торговый порт',\n",
       "       'Новороссийское морское пароходство',\n",
       "       'Объединенная авиастроительная корпорация',\n",
       "       'Объединенные Кредитные Системы', 'ОДК-Сатурн', 'ОР',\n",
       "       'Павловский автобус', 'Пермская энергосбытовая компания',\n",
       "       'ПИК-специализированный застройщик', 'Полюс', 'Энергия',\n",
       "       'Распадская', 'РБК', 'РН-Западная Сибирь', 'Росгосстрах Банк',\n",
       "       'РОСИНТЕР РЕСТОРАНТС ХОЛДИНГ', 'Россети Волга', 'Россети Кубань',\n",
       "       'Россети Ленэнерго', 'Россети Московский регион',\n",
       "       'Россети Северный Кавказ', 'Россети Сибирь', 'Россети Юг',\n",
       "       'Российские сети', 'Ростелеком', 'Русгрэйн Холдинг', 'Русолово',\n",
       "       'Русполимет', 'Рязанская энергетическая сбытовая компания',\n",
       "       'Саратовский нефтеперерабатывающий завод', 'Саратовэнерго',\n",
       "       'САФМАР Финансовые инвестиции', 'Сбербанк России',\n",
       "       'Светофор Групп', 'Северсталь', 'Селигдар', 'Сибирский гостинец',\n",
       "       'Славнефть - Мегионнефтегаз', 'Славнефть-Ярославнефтеоргсинтез',\n",
       "       'Современный коммерческий флот', 'СОЛЛЕРС', 'Ставропольэнергосбыт',\n",
       "       'Сургутнефтегаз', 'Таганрогский котлостроительный завод ',\n",
       "       'Тамбовская энергосбытовая компания', 'Татнефть', 'Таттелеком',\n",
       "       'Территориальная генерирующая компания № 14',\n",
       "       'Территориальная генерирующая компания №1',\n",
       "       'Территориальная генерирующая компания №2', 'ТНС энерго Воронеж',\n",
       "       'ТНС энерго Кубань', 'ТНС энерго Марий Эл',\n",
       "       'ТНС энерго Нижний Новгород', 'ТНС энерго Ростов-на-Дону',\n",
       "       'ТНС энерго Ярославль', 'Томская распределительная компания',\n",
       "       'Транснефть', 'ТрансФин-М', 'Трубная Металлургическая Компания',\n",
       "       'Туймазинский завод автобетоновозов',\n",
       "       'Тучковский комбинат строительных материалов',\n",
       "       'Угольная компания ', 'УПРАВЛЯЮЩАЯ КОМПАНИЯ ', 'Уралкалий',\n",
       "       'Уральская кузница', 'Фармсинтез',\n",
       "       'Федеральная гидрогенерирующая компания - РусГидро',\n",
       "       'Федеральная сетевая компания Единой энергетической системы',\n",
       "       'ФосАгро', 'Химпром', 'Центр международной торговли',\n",
       "       'Центр по перевозке грузов в контейнерах ', 'Центральный телеграф',\n",
       "       'Челябинский завод профилированного стального настила',\n",
       "       'Челябинский кузнечно-прессовый завод',\n",
       "       'Челябинский металлургический комбинат',\n",
       "       'Челябинский трубопрокатный завод', 'Электроцинк', 'Энел Россия',\n",
       "       'Южно-Уральский никелевый комбинат', 'Юнипро',\n",
       "       'Якутская топливно-энергетическая компания', 'Якутскэнерго',\n",
       "       'Возрождение', 'Кузнецкий', 'Сегежа', 'ТНС энерго', 'ДИОД',\n",
       "       'Публичное акционерное общество МОСКОВСКИЙ ОБЛАСТНОЙ БАНК',\n",
       "       'Наука', 'РуссНефть',\n",
       "       'Публичное акционерное общество Объединенные машиностроительные заводы (Группа Уралмаш-Ижора)',\n",
       "       'Публичное акционерное общество РОСБАНК', 'Росгосстрах',\n",
       "       'Камчатскэнерго', 'Магаданэнерго', 'Мосэнерго', 'Самараэнерго',\n",
       "       'Сахалинэнерго', 'ETALON GROUP PLC (ЭТАЛОН ГРУП ПИЭЛСИ)',\n",
       "       'Fix Price Group Ltd (Фикс Прайс Груп Лтд)',\n",
       "       'Globaltrans Investment PLC (Глобалтранс Инвестмент ПЛС)',\n",
       "       'HeadHunter Group PLC (ХэдХантер Групп ПИЭЛСИ)',\n",
       "       'HMS HYDRAULIC MACHINES & SYSTEMS GROUP PLC (ГМС ГИДРАВЛИК МАШИНС ЭНД СИСТЕМС ГРУП ПЛС)',\n",
       "       'Mail.ru Group Limited (Мэйл.ру Груп Лимитед)',\n",
       "       'MD MEDICAL GROUP INVESTMENTS PLC (МД МЕДИКАЛ ГРУП ИНВЕСТМЕНТС ПЛС)',\n",
       "       'TCS Group Holding PLC (ТиСиЭс Груп Холдинг ПиЭлСи)',\n",
       "       \"АО О'КЕЙ ГРУПП\", 'Икс 5 Ритейл Груп Н.В. (X5 Retail Group N.V.)',\n",
       "       'КИВИ ПиЭлСи (QIWI PLC)', 'Лента', 'Озон Холдингс ПиЭлСи',\n",
       "       'РОС АГРО ПЛС (ROS AGRO PLC)', 'Nord Gold PLC (Норд Голд ПЛК)',\n",
       "       'UNITED MEDICAL GROUP CY PLC (ЮНАЙТЕД МЕДИКАЛ ГРУП КИ ПИЭЛСИ)',\n",
       "       'Petropavlovsk PLC (Петропавловск ПЛК)',\n",
       "       'Полиметалл Интернэшнл плс (Polymetal International plc)',\n",
       "       'Публичная Компания с ограниченной ответственностью Яндекс Н.В. (Public Limited Liability Company Yandex N.V.)',\n",
       "       'Softline Holding Limited', 'VEON Ltd.', 'Группа Позитив',\n",
       "       'Cian PLC', 'ВУШ Холдинг', 'СПБ Биржа', 'Global Ports',\n",
       "       'Группа Ренессанс Страхование', 'Astra Linux', 'INARCTICA',\n",
       "       'ЮЖУРАЛЗОЛОТО', 'Artgen biotech', 'Генетико', 'CarMoney',\n",
       "       'Henderson', 'Совкомбанк', 'ЕвроТранс', 'Делимобиль', 'Диасофт'],\n",
       "      dtype=object)"
      ]
     },
     "execution_count": 408,
     "metadata": {},
     "output_type": "execute_result"
    }
   ],
   "source": [
    "slova['NAME'].values"
   ]
  },
  {
   "cell_type": "code",
   "execution_count": 409,
   "metadata": {},
   "outputs": [
    {
     "data": {
      "text/plain": [
       "array([], dtype=object)"
      ]
     },
     "execution_count": 409,
     "metadata": {},
     "output_type": "execute_result"
    }
   ],
   "source": [
    "slova[slova['NAME']=='']['EMITENT_FULL_NAME'].values"
   ]
  },
  {
   "cell_type": "code",
   "execution_count": 410,
   "metadata": {},
   "outputs": [],
   "source": [
    "slova['NAME'] = slova['NAME'].apply(lambda x: x.strip(' .,!?-()'))"
   ]
  },
  {
   "cell_type": "code",
   "execution_count": 411,
   "metadata": {},
   "outputs": [
    {
     "data": {
      "text/plain": [
       "array(['Держава', 'МОСКОВСКИЙ КРЕДИТНЫЙ БАНК',\n",
       "       'Российский акционерный коммерческий дорожный банк', 'АЛРОСА',\n",
       "       'АВАНГАРД', 'Приморье', 'Банк ВТБ (публичное акционерное общество',\n",
       "       'Иркутское публичное акционерное общество энергетики и электрификации',\n",
       "       'Органический синтез', 'Лензолото', 'Объединённая Компания',\n",
       "       'ЭН+ ГРУП', 'Белон', 'Донской завод радиодеталей', 'Левенгук',\n",
       "       'Липецкая энергосбытовая компания',\n",
       "       'Межрегиональная распределительная сетевая компания Урала',\n",
       "       'Мультисистема', 'Научно-производственное объединение',\n",
       "       'Соликамский магниевый завод', 'Русская Аквакультура',\n",
       "       'Абрау – Дюрсо', 'Авиакомпания', 'Акрон',\n",
       "       'Акционерная нефтяная Компания',\n",
       "       'Акционерная финансовая корпорация', 'АЛРОСА-Нюрба',\n",
       "       'Аптечная сеть 36,6', 'АСКО-СТРАХОВАНИЕ',\n",
       "       'Астраханская энергосбытовая компания',\n",
       "       'Ашинский металлургический завод',\n",
       "       'Аэрофлот – российские авиалинии', 'БАНК', 'БАНК УРАЛСИБ',\n",
       "       'Башинформсвязь', 'Белуга Групп', 'Бест Эффортс Банк',\n",
       "       'Бурятзолото', 'Варьеганнефтегаз', 'Владимирский химический завод',\n",
       "       'Волгоградэнергосбыт',\n",
       "       'Вторая генерирующая компания оптового рынка электроэнергии',\n",
       "       'Выборгский судостроительный завод', 'ГАЗ', 'ГАЗКОН',\n",
       "       'Газпром газораспределение Ростов-на-Дону', 'Газпром нефть',\n",
       "       'Газпром', 'ГАЗ-сервис', 'ГАЗ-Тек', 'ГЕОТЕК Сейсморазведка',\n",
       "       'ГЛОБАЛТРАК МЕНЕДЖМЕНТ', 'Горно-металлургическая компания',\n",
       "       'Городские Инновационные Технологии', 'Группа Компаний',\n",
       "       'Группа компаний', 'Группа ЛСР', 'Группа Черкизово',\n",
       "       'Дагестанская энергосбытовая компания',\n",
       "       'Дальневосточная энергетическая компания',\n",
       "       'Дальневосточное морское пароходство', 'Детский мир', 'ДжиТиЭл',\n",
       "       'Европейская Электротехника', 'Завод имени И.А. Лихачева',\n",
       "       'ЗВЕЗДА', 'Ижсталь', 'ИНВЕСТ-ДЕВЕЛОПМЕНТ',\n",
       "       'ИНВЕСТИЦИОННАЯ КОМПАНИЯ ИК РУСС-ИНВЕСТ', 'ИНГРАД',\n",
       "       'Институт Стволовых Клеток Человека', 'Интер РАО ЕЭС',\n",
       "       'Калужская сбытовая компания', 'КАМАЗ',\n",
       "       'Каменск-Уральский завод по обработке цветных металлов',\n",
       "       'Квадра - Генерирующая компания', 'Ковровский механический завод',\n",
       "       'Кокс', 'Корпорация ВСМПО-АВИСМА',\n",
       "       'Коршуновский горно-обогатительный комбинат',\n",
       "       'Косогорский металлургический завод',\n",
       "       'Костромская сбытовая компания',\n",
       "       'Краснокамский завод металлических сеток', 'Красноярскэнергосбыт',\n",
       "       'Кузбасская Топливная Компания', 'КуйбышевАзот',\n",
       "       'Курганская генерирующая компания', 'М.видео', 'Магнит',\n",
       "       'Магнитогорский металлургический комбинат', 'МегаФон',\n",
       "       'Медиахолдинг',\n",
       "       'Международный Медицинский Центр Обработки и Криохранения Биоматериалов',\n",
       "       'Межрегиональная распределительная сетевая компания Северо-Запада',\n",
       "       'Межрегиональная распределительная сетевая компания Центра и Приволжья',\n",
       "       'Межрегиональная распределительная сетевая компания Центра',\n",
       "       'МЕРИДИАН', 'МЕТКОМБАНК', 'Мечел', 'Мобильные ТелеСистемы',\n",
       "       'Мордовская энергосбытовая компания', 'Морион',\n",
       "       'Московская Биржа ММВБ-РТС',\n",
       "       'Московская городская телефонная сеть',\n",
       "       'Московская кондитерская фабрика', 'МОСТОТРЕСТ', 'Наука-Связь',\n",
       "       'Научно-производственная корпорация',\n",
       "       'Научно-производственная корпорация', 'Нефтекамский автозавод',\n",
       "       'Нефтяная компания', 'Нефтяная компания', 'Нижнекамскнефтехим',\n",
       "       'Нижнекамскшина', 'НОВАТЭК',\n",
       "       'Новолипецкий металлургический комбинат',\n",
       "       'Новороссийский комбинат хлебопродуктов',\n",
       "       'Новороссийский морской торговый порт',\n",
       "       'Новороссийское морское пароходство',\n",
       "       'Объединенная авиастроительная корпорация',\n",
       "       'Объединенные Кредитные Системы', 'ОДК-Сатурн', 'ОР',\n",
       "       'Павловский автобус', 'Пермская энергосбытовая компания',\n",
       "       'ПИК-специализированный застройщик', 'Полюс', 'Энергия',\n",
       "       'Распадская', 'РБК', 'РН-Западная Сибирь', 'Росгосстрах Банк',\n",
       "       'РОСИНТЕР РЕСТОРАНТС ХОЛДИНГ', 'Россети Волга', 'Россети Кубань',\n",
       "       'Россети Ленэнерго', 'Россети Московский регион',\n",
       "       'Россети Северный Кавказ', 'Россети Сибирь', 'Россети Юг',\n",
       "       'Российские сети', 'Ростелеком', 'Русгрэйн Холдинг', 'Русолово',\n",
       "       'Русполимет', 'Рязанская энергетическая сбытовая компания',\n",
       "       'Саратовский нефтеперерабатывающий завод', 'Саратовэнерго',\n",
       "       'САФМАР Финансовые инвестиции', 'Сбербанк России',\n",
       "       'Светофор Групп', 'Северсталь', 'Селигдар', 'Сибирский гостинец',\n",
       "       'Славнефть - Мегионнефтегаз', 'Славнефть-Ярославнефтеоргсинтез',\n",
       "       'Современный коммерческий флот', 'СОЛЛЕРС', 'Ставропольэнергосбыт',\n",
       "       'Сургутнефтегаз', 'Таганрогский котлостроительный завод',\n",
       "       'Тамбовская энергосбытовая компания', 'Татнефть', 'Таттелеком',\n",
       "       'Территориальная генерирующая компания № 14',\n",
       "       'Территориальная генерирующая компания №1',\n",
       "       'Территориальная генерирующая компания №2', 'ТНС энерго Воронеж',\n",
       "       'ТНС энерго Кубань', 'ТНС энерго Марий Эл',\n",
       "       'ТНС энерго Нижний Новгород', 'ТНС энерго Ростов-на-Дону',\n",
       "       'ТНС энерго Ярославль', 'Томская распределительная компания',\n",
       "       'Транснефть', 'ТрансФин-М', 'Трубная Металлургическая Компания',\n",
       "       'Туймазинский завод автобетоновозов',\n",
       "       'Тучковский комбинат строительных материалов', 'Угольная компания',\n",
       "       'УПРАВЛЯЮЩАЯ КОМПАНИЯ', 'Уралкалий', 'Уральская кузница',\n",
       "       'Фармсинтез', 'Федеральная гидрогенерирующая компания - РусГидро',\n",
       "       'Федеральная сетевая компания Единой энергетической системы',\n",
       "       'ФосАгро', 'Химпром', 'Центр международной торговли',\n",
       "       'Центр по перевозке грузов в контейнерах', 'Центральный телеграф',\n",
       "       'Челябинский завод профилированного стального настила',\n",
       "       'Челябинский кузнечно-прессовый завод',\n",
       "       'Челябинский металлургический комбинат',\n",
       "       'Челябинский трубопрокатный завод', 'Электроцинк', 'Энел Россия',\n",
       "       'Южно-Уральский никелевый комбинат', 'Юнипро',\n",
       "       'Якутская топливно-энергетическая компания', 'Якутскэнерго',\n",
       "       'Возрождение', 'Кузнецкий', 'Сегежа', 'ТНС энерго', 'ДИОД',\n",
       "       'Публичное акционерное общество МОСКОВСКИЙ ОБЛАСТНОЙ БАНК',\n",
       "       'Наука', 'РуссНефть',\n",
       "       'Публичное акционерное общество Объединенные машиностроительные заводы (Группа Уралмаш-Ижора',\n",
       "       'Публичное акционерное общество РОСБАНК', 'Росгосстрах',\n",
       "       'Камчатскэнерго', 'Магаданэнерго', 'Мосэнерго', 'Самараэнерго',\n",
       "       'Сахалинэнерго', 'ETALON GROUP PLC (ЭТАЛОН ГРУП ПИЭЛСИ',\n",
       "       'Fix Price Group Ltd (Фикс Прайс Груп Лтд',\n",
       "       'Globaltrans Investment PLC (Глобалтранс Инвестмент ПЛС',\n",
       "       'HeadHunter Group PLC (ХэдХантер Групп ПИЭЛСИ',\n",
       "       'HMS HYDRAULIC MACHINES & SYSTEMS GROUP PLC (ГМС ГИДРАВЛИК МАШИНС ЭНД СИСТЕМС ГРУП ПЛС',\n",
       "       'Mail.ru Group Limited (Мэйл.ру Груп Лимитед',\n",
       "       'MD MEDICAL GROUP INVESTMENTS PLC (МД МЕДИКАЛ ГРУП ИНВЕСТМЕНТС ПЛС',\n",
       "       'TCS Group Holding PLC (ТиСиЭс Груп Холдинг ПиЭлСи',\n",
       "       \"АО О'КЕЙ ГРУПП\", 'Икс 5 Ритейл Груп Н.В. (X5 Retail Group N.V',\n",
       "       'КИВИ ПиЭлСи (QIWI PLC', 'Лента', 'Озон Холдингс ПиЭлСи',\n",
       "       'РОС АГРО ПЛС (ROS AGRO PLC', 'Nord Gold PLC (Норд Голд ПЛК',\n",
       "       'UNITED MEDICAL GROUP CY PLC (ЮНАЙТЕД МЕДИКАЛ ГРУП КИ ПИЭЛСИ',\n",
       "       'Petropavlovsk PLC (Петропавловск ПЛК',\n",
       "       'Полиметалл Интернэшнл плс (Polymetal International plc',\n",
       "       'Публичная Компания с ограниченной ответственностью Яндекс Н.В. (Public Limited Liability Company Yandex N.V',\n",
       "       'Softline Holding Limited', 'VEON Ltd', 'Группа Позитив',\n",
       "       'Cian PLC', 'ВУШ Холдинг', 'СПБ Биржа', 'Global Ports',\n",
       "       'Группа Ренессанс Страхование', 'Astra Linux', 'INARCTICA',\n",
       "       'ЮЖУРАЛЗОЛОТО', 'Artgen biotech', 'Генетико', 'CarMoney',\n",
       "       'Henderson', 'Совкомбанк', 'ЕвроТранс', 'Делимобиль', 'Диасофт'],\n",
       "      dtype=object)"
      ]
     },
     "execution_count": 411,
     "metadata": {},
     "output_type": "execute_result"
    }
   ],
   "source": [
    "slova['NAME'].values"
   ]
  },
  {
   "cell_type": "code",
   "execution_count": 412,
   "metadata": {},
   "outputs": [
    {
     "data": {
      "text/plain": [
       "['RGSS', 'Росгосстрах']"
      ]
     },
     "execution_count": 412,
     "metadata": {},
     "output_type": "execute_result"
    }
   ],
   "source": [
    "list(slova.loc[212, :].dropna().values[1:])"
   ]
  },
  {
   "cell_type": "code",
   "execution_count": 413,
   "metadata": {},
   "outputs": [
    {
     "data": {
      "text/plain": [
       "array([  1,   2,   3,   4,   5,   6,   7,   8,   9,  10,  11,  12,  13,\n",
       "        14,  15,  16,  17,  18,  19,  20,  21,  22,  23,  24,  25,  26,\n",
       "        27,  28,  29,  30,  31,  32,  33,  34,  35,  36,  37,  38,  39,\n",
       "        40,  41,  42,  43,  44,  45,  46,  47,  48,  49,  50,  51,  52,\n",
       "        53,  54,  55,  56,  57,  58,  59,  60,  61,  62,  63,  64,  65,\n",
       "        66,  67,  68,  69,  70,  71,  72,  73,  74,  75,  76,  77,  78,\n",
       "        79,  80,  81,  82,  83,  84,  85,  86,  87,  88,  89,  90,  91,\n",
       "        92,  93,  94,  95,  96,  97,  98,  99, 100, 101, 102, 103, 104,\n",
       "       105, 106, 107, 108, 109, 110, 111, 112, 113, 114, 115, 116, 117,\n",
       "       118, 119, 120, 121, 122, 123, 124, 125, 126, 127, 128, 129, 130,\n",
       "       131, 132, 133, 134, 135, 136, 137, 138, 139, 140, 141, 142, 143,\n",
       "       144, 145, 146, 147, 148, 149, 150, 151, 152, 153, 154, 155, 156,\n",
       "       157, 158, 159, 160, 161, 162, 163, 164, 165, 166, 167, 168, 169,\n",
       "       170, 171, 172, 173, 174, 175, 176, 177, 178, 179, 180, 181, 182,\n",
       "       183, 184, 185, 186, 187, 188, 189, 190, 191, 192, 193, 194, 195,\n",
       "       196, 197, 198, 199, 200, 201, 202, 203, 204, 205, 206, 207, 208,\n",
       "       209, 210, 211, 212, 213, 214, 215, 216, 217, 218, 219, 220, 221,\n",
       "       222, 223, 224, 225, 226, 227, 228, 229, 230, 231, 232, 233, 234,\n",
       "       235, 236, 237, 240, 241, 251, 254, 255, 257, 267, 258, 261, 265,\n",
       "       266, 268, 269, 270, 271, 272, 273, 274])"
      ]
     },
     "execution_count": 413,
     "metadata": {},
     "output_type": "execute_result"
    }
   ],
   "source": [
    "slova.index.values"
   ]
  },
  {
   "cell_type": "code",
   "execution_count": 414,
   "metadata": {},
   "outputs": [],
   "source": [
    "def list_to_words(x):\n",
    "    res = []\n",
    "    for i in x:\n",
    "        temp_res = map(lambda y: y.strip('\\'.,():!?\\\"').lower(), i.split())\n",
    "        # temp_res_with = map(lambda y: y.strip('.,:!?').lower(), i.split())\n",
    "        res.extend(temp_res)\n",
    "        # res.extend(temp_res_with)\n",
    "    return res #list(set(res))"
   ]
  },
  {
   "cell_type": "code",
   "execution_count": 415,
   "metadata": {},
   "outputs": [],
   "source": [
    "id_to_names = {}\n",
    "for i in slova.index.values:\n",
    "    id_to_names[i] = list(slova.loc[i, :].dropna().values[1:])"
   ]
  },
  {
   "cell_type": "code",
   "execution_count": 416,
   "metadata": {},
   "outputs": [],
   "source": [
    "all_slova = []\n",
    "for k, v in id_to_names.items():\n",
    "    all_slova.extend(list_to_words(v))"
   ]
  },
  {
   "cell_type": "code",
   "execution_count": 417,
   "metadata": {},
   "outputs": [
    {
     "data": {
      "text/plain": [
       "1965"
      ]
     },
     "execution_count": 417,
     "metadata": {},
     "output_type": "execute_result"
    }
   ],
   "source": [
    "len(all_slova)"
   ]
  },
  {
   "cell_type": "code",
   "execution_count": 418,
   "metadata": {},
   "outputs": [],
   "source": [
    "from collections import Counter\n",
    "\n",
    "count = Counter(all_slova)\n"
   ]
  },
  {
   "cell_type": "code",
   "execution_count": 419,
   "metadata": {},
   "outputs": [],
   "source": [
    "drop_words = [i for i, n in count.most_common()[:5]]"
   ]
  },
  {
   "cell_type": "code",
   "execution_count": 420,
   "metadata": {},
   "outputs": [
    {
     "data": {
      "text/plain": [
       "['rx', 'пао', 'компания', 'завод', 'банк']"
      ]
     },
     "execution_count": 420,
     "metadata": {},
     "output_type": "execute_result"
    }
   ],
   "source": [
    "drop_words"
   ]
  },
  {
   "cell_type": "code",
   "execution_count": 421,
   "metadata": {},
   "outputs": [
    {
     "data": {
      "text/plain": [
       "[('rx', 84),\n",
       " ('пао', 55),\n",
       " ('компания', 52),\n",
       " ('завод', 29),\n",
       " ('банк', 23),\n",
       " ('россети', 17),\n",
       " ('тнс', 17),\n",
       " ('энерго', 17),\n",
       " ('group', 16),\n",
       " ('plc', 14),\n",
       " ('группа', 14),\n",
       " ('комбинат', 12),\n",
       " ('груп', 11),\n",
       " ('энергосбытовая', 9),\n",
       " ('металлургический', 9),\n",
       " ('газпром', 9),\n",
       " ('bank', 8),\n",
       " ('групп', 8),\n",
       " ('челябинский', 8),\n",
       " ('распределительная', 7),\n",
       " ('корпорация', 7),\n",
       " ('генерирующая', 7),\n",
       " ('сетевая', 6),\n",
       " ('plant', 6),\n",
       " ('пиэлси', 6),\n",
       " ('московский', 5),\n",
       " ('приморье', 5),\n",
       " ('primorye', 5),\n",
       " ('публичное', 5),\n",
       " ('акционерное', 5),\n",
       " ('общество', 5),\n",
       " ('межрегиональная', 5),\n",
       " ('газ', 5),\n",
       " ('еэс', 5),\n",
       " ('сбытовая', 5),\n",
       " ('московская', 5),\n",
       " ('новороссийский', 5),\n",
       " ('росгосстрах', 5),\n",
       " ('холдинг', 5),\n",
       " ('li', 5),\n",
       " ('плс', 5),\n",
       " ('и', 4),\n",
       " ('аквакультура', 4),\n",
       " ('ростов-на-дону', 4),\n",
       " ('энергетическая', 4),\n",
       " ('морское', 4),\n",
       " ('пароходство', 4),\n",
       " ('русс-инвест', 4),\n",
       " ('инград', 4),\n",
       " ('квадра', 4)]"
      ]
     },
     "execution_count": 421,
     "metadata": {},
     "output_type": "execute_result"
    }
   ],
   "source": [
    "count.most_common()[:50]"
   ]
  },
  {
   "cell_type": "code",
   "execution_count": 431,
   "metadata": {},
   "outputs": [],
   "source": [
    "id_to_names = {}\n",
    "for i in slova.index.values:\n",
    "    id_to_names[i] = list(set([i for i in list_to_words(list(slova.loc[i, :].dropna().values[1:])) if i not in drop_words + ['ор','общество', 'газ', 'в', 'с', 'по', 'bank', 'груп', \n",
    "    'групп', 'группа', 'group', 'и', 'of', 'li', 'гк', 'холдинг', 'op', 'global', 'биржа', 'бизнес', 'рос', '(публичное', 'втб', 'общество)',\n",
    "    'акционерное', 'рус', 'руссия', 'финансовые', 'инвестиции', '-', 'московский', 'коммерческий', 'рынка', 'гр', 'современный']+['морской', 'порт', 'торговый']+\n",
    "    ['--', 'есть', 'tza', 'американский','не','автобетоновозов', 'котировки', 'cy', 'туймазинский','тикер', 'кредитный', '5', 'limited', 'ритейл', 'лимитед', 'ик', 'инвестиционная', 'russia', 'пиэлси', 'nordgold', 'nord', 'россия', 'ки', 'plc']]))"
   ]
  },
  {
   "cell_type": "code",
   "execution_count": 432,
   "metadata": {},
   "outputs": [],
   "source": [
    "id_to_names[255].append('спб биржа')"
   ]
  },
  {
   "cell_type": "code",
   "execution_count": 433,
   "metadata": {},
   "outputs": [],
   "source": [
    "id_to_names[255].extend(['тза','туймазинский завод автобетоновозов' ])"
   ]
  },
  {
   "cell_type": "code",
   "execution_count": 434,
   "metadata": {},
   "outputs": [],
   "source": [
    "id_to_names[241].extend(['группа позитив', 'positive technologies'])"
   ]
  },
  {
   "cell_type": "code",
   "execution_count": 435,
   "metadata": {},
   "outputs": [],
   "source": [
    "id_to_names[7].append('втб')"
   ]
  },
  {
   "cell_type": "code",
   "execution_count": 436,
   "metadata": {},
   "outputs": [
    {
     "data": {
      "text/plain": [
       "['юнайтед', 'medical', 'медикал', 'united']"
      ]
     },
     "execution_count": 436,
     "metadata": {},
     "output_type": "execute_result"
    }
   ],
   "source": [
    "id_to_names[233]"
   ]
  },
  {
   "cell_type": "code",
   "execution_count": 437,
   "metadata": {},
   "outputs": [
    {
     "data": {
      "text/plain": [
       "3"
      ]
     },
     "execution_count": 437,
     "metadata": {},
     "output_type": "execute_result"
    }
   ],
   "source": [
    "count['коммерческий']"
   ]
  },
  {
   "cell_type": "code",
   "execution_count": 438,
   "metadata": {},
   "outputs": [],
   "source": [
    "# for i in "
   ]
  },
  {
   "cell_type": "markdown",
   "metadata": {},
   "source": [
    "##  Сохранение релевантных слов"
   ]
  },
  {
   "cell_type": "code",
   "execution_count": 439,
   "metadata": {},
   "outputs": [],
   "source": [
    "import pickle\n",
    "with open('saved_words.pkl', 'wb') as f:\n",
    "    pickle.dump(id_to_names, f)\n",
    "with open('saved_words.pkl', 'rb') as f:\n",
    "    loaded_id_to_names = pickle.load(f)"
   ]
  },
  {
   "cell_type": "markdown",
   "metadata": {},
   "source": [
    "## Дальше не надо"
   ]
  },
  {
   "cell_type": "code",
   "execution_count": 440,
   "metadata": {},
   "outputs": [],
   "source": [
    "import pickle\n"
   ]
  },
  {
   "cell_type": "code",
   "execution_count": 362,
   "metadata": {},
   "outputs": [],
   "source": [
    "all_words_load = []\n",
    "for k, v in loaded_id_to_names.items():\n",
    "    all_words_load.extend(v)"
   ]
  },
  {
   "cell_type": "code",
   "execution_count": 314,
   "metadata": {},
   "outputs": [
    {
     "data": {
      "text/plain": [
       "1232"
      ]
     },
     "execution_count": 314,
     "metadata": {},
     "output_type": "execute_result"
    }
   ],
   "source": [
    "len(all_words_load)"
   ]
  },
  {
   "cell_type": "code",
   "execution_count": 315,
   "metadata": {},
   "outputs": [],
   "source": [
    "unique_words = list(set(all_words_load))"
   ]
  },
  {
   "cell_type": "code",
   "execution_count": 316,
   "metadata": {},
   "outputs": [
    {
     "data": {
      "text/plain": [
       "1056"
      ]
     },
     "execution_count": 316,
     "metadata": {},
     "output_type": "execute_result"
    }
   ],
   "source": [
    "len(unique_words)"
   ]
  },
  {
   "cell_type": "markdown",
   "metadata": {},
   "source": [
    "### Обработка строки"
   ]
  },
  {
   "cell_type": "code",
   "execution_count": 317,
   "metadata": {},
   "outputs": [],
   "source": [
    "s = '\"#PLZL #ALRS ПАО \"\"Полюс\"\", АК \"\"АЛРОСА\"\" и руководство Якутии заключили соглашение о сотрудничестве, передает корреспондент \"\"Интерфакса\"\" с церемонии подписания.    Необходимость соглашения связана с планами \"\"Полюса\"\" по разработке местоположений в Иркутской области - Сухой Лог и Чертово Корыто.    В числе прочего стороны договорились рассмотреть возможность строительства в Якутии газовой электростанции, в качестве основного топлива для которой будет использован газ со Среднеботуобинского нефтегазоконденсатного месторождения \"\"АЛРОСА-Газ\"\". По предварительным оценкам, мощность новой электростанции может составить до 200 МВт с годовым потреблением до 300 млн куб. м газа.\"'"
   ]
  },
  {
   "cell_type": "code",
   "execution_count": 318,
   "metadata": {},
   "outputs": [],
   "source": [
    "new_string = re.sub(r'[^a-zA-Z0-9а-яА-Я\\s]+', '', s)"
   ]
  },
  {
   "cell_type": "code",
   "execution_count": 319,
   "metadata": {},
   "outputs": [
    {
     "data": {
      "text/plain": [
       "'plzl alrs пао полюс ак алроса и руководство якутии заключили соглашение о сотрудничестве передает корреспондент интерфакса с церемонии подписания    необходимость соглашения связана с планами полюса по разработке местоположений в иркутской области  сухой лог и чертово корыто    в числе прочего стороны договорились рассмотреть возможность строительства в якутии газовой электростанции в качестве основного топлива для которой будет использован газ со среднеботуобинского нефтегазоконденсатного месторождения алросагаз по предварительным оценкам мощность новой электростанции может составить до 200 мвт с годовым потреблением до 300 млн куб м газа'"
      ]
     },
     "execution_count": 319,
     "metadata": {},
     "output_type": "execute_result"
    }
   ],
   "source": [
    "new_string.lower()"
   ]
  },
  {
   "cell_type": "code",
   "execution_count": 323,
   "metadata": {},
   "outputs": [],
   "source": [
    "new_str_list = [i for i in new_string.lower().split() if i in unique_words]"
   ]
  },
  {
   "cell_type": "code",
   "execution_count": 324,
   "metadata": {},
   "outputs": [
    {
     "data": {
      "text/plain": [
       "['plzl', 'alrs', 'полюс', 'алроса']"
      ]
     },
     "execution_count": 324,
     "metadata": {},
     "output_type": "execute_result"
    }
   ],
   "source": [
    "new_str_list"
   ]
  },
  {
   "cell_type": "code",
   "execution_count": 322,
   "metadata": {},
   "outputs": [],
   "source": [
    "words_to_id = {}\n",
    "for k, v in loaded_id_to_names.items():\n",
    "    for i in v:\n",
    "        words_to_id[i] = k"
   ]
  },
  {
   "cell_type": "code",
   "execution_count": 334,
   "metadata": {},
   "outputs": [],
   "source": [
    "all_searched_ids = [words_to_id[i] for i in new_str_list]"
   ]
  },
  {
   "cell_type": "code",
   "execution_count": 335,
   "metadata": {},
   "outputs": [
    {
     "data": {
      "text/plain": [
       "[127, 4, 127, 27]"
      ]
     },
     "execution_count": 335,
     "metadata": {},
     "output_type": "execute_result"
    }
   ],
   "source": [
    "all_searched_ids"
   ]
  },
  {
   "cell_type": "code",
   "execution_count": 341,
   "metadata": {},
   "outputs": [],
   "source": [
    "all_searched_ids_set = set(all_searched_ids)"
   ]
  },
  {
   "cell_type": "code",
   "execution_count": 342,
   "metadata": {},
   "outputs": [
    {
     "data": {
      "text/plain": [
       "{4, 27, 127}"
      ]
     },
     "execution_count": 342,
     "metadata": {},
     "output_type": "execute_result"
    }
   ],
   "source": [
    "all_searched_ids_set"
   ]
  },
  {
   "cell_type": "code",
   "execution_count": 338,
   "metadata": {},
   "outputs": [],
   "source": [
    "count = Counter(all_searched_ids)"
   ]
  },
  {
   "cell_type": "code",
   "execution_count": 339,
   "metadata": {},
   "outputs": [
    {
     "data": {
      "text/plain": [
       "Counter({127: 2, 4: 1, 27: 1})"
      ]
     },
     "execution_count": 339,
     "metadata": {},
     "output_type": "execute_result"
    }
   ],
   "source": [
    "count"
   ]
  },
  {
   "cell_type": "code",
   "execution_count": 340,
   "metadata": {},
   "outputs": [
    {
     "data": {
      "text/plain": [
       "['alrosa', 'alnu', 'алроса-нюрба', 'алроса']"
      ]
     },
     "execution_count": 340,
     "metadata": {},
     "output_type": "execute_result"
    }
   ],
   "source": [
    "loaded_id_to_names[27]"
   ]
  },
  {
   "cell_type": "markdown",
   "metadata": {},
   "source": [
    "### Предсказания для новостей"
   ]
  },
  {
   "cell_type": "code",
   "execution_count": 376,
   "metadata": {},
   "outputs": [],
   "source": [
    "def text_to_companies(s):\n",
    "    new_string = re.sub(r'[^a-zA-Z0-9а-яА-Я\\s]+', '', s)\n",
    "    new_str_list = [i for i in new_string.lower().split() if i in unique_words]\n",
    "    # if len(new_str_list)==0:\n",
    "    #     return -2\n",
    "    all_searched_ids = [words_to_id[i] for i in new_str_list]\n",
    "\n",
    "    # all_searched_ids_set = set(all_searched_ids)\n",
    "    return all_searched_ids  "
   ]
  },
  {
   "cell_type": "code",
   "execution_count": null,
   "metadata": {},
   "outputs": [],
   "source": [
    "def text_to_companies_new(s):\n",
    "    # new_string = re.sub(r'[^a-zA-Z0-9а-яА-Я\\s]+', '', s)\n",
    "    # new_str_list = [i for i in new_string.lower().split() if i in unique_words]\n",
    "    [for i in unique_words if i in ]\n",
    "    # if len(new_str_list)==0:\n",
    "    #     return -2\n",
    "    all_searched_ids = [words_to_id[i] for i in new_str_list]\n",
    "\n",
    "    # all_searched_ids_set = set(all_searched_ids)\n",
    "    return all_searched_ids  "
   ]
  },
  {
   "cell_type": "code",
   "execution_count": 381,
   "metadata": {},
   "outputs": [],
   "source": [
    "def text_to_words(s):\n",
    "    new_string = re.sub(r'[^a-z0-9а-я\\s]+', '', s) #[^a-zA-Z0-9а-яА-Я\\s]\n",
    "    new_str_list = [i for i in new_string.lower().split() if i in unique_words]\n",
    "    return new_str_list  "
   ]
  },
  {
   "cell_type": "code",
   "execution_count": null,
   "metadata": {},
   "outputs": [],
   "source": [
    "def words_to_companies(words):\n",
    "    "
   ]
  },
  {
   "cell_type": "code",
   "execution_count": 377,
   "metadata": {},
   "outputs": [],
   "source": [
    "mentions_texts['predict_true'] = mentions_texts.apply(lambda row: 1 if row['issuerid'] in text_to_companies(row['MessageText']) else 0, axis=1)"
   ]
  },
  {
   "cell_type": "code",
   "execution_count": 415,
   "metadata": {},
   "outputs": [
    {
     "data": {
      "text/plain": [
       "0.631578947368421"
      ]
     },
     "execution_count": 415,
     "metadata": {},
     "output_type": "execute_result"
    }
   ],
   "source": [
    "12/19"
   ]
  },
  {
   "cell_type": "code",
   "execution_count": 403,
   "metadata": {},
   "outputs": [],
   "source": [
    "mentions_texts['words'] = mentions_texts.apply(lambda row: text_to_words(row['MessageText']), axis=1)"
   ]
  },
  {
   "cell_type": "code",
   "execution_count": null,
   "metadata": {},
   "outputs": [],
   "source": [
    "mentions_texts['companies'] = mentions_texts.apply(lambda row: list(set(words_to_companies(row['MessageText']))), axis=1)"
   ]
  },
  {
   "cell_type": "code",
   "execution_count": 416,
   "metadata": {},
   "outputs": [],
   "source": [
    "mentions_texts['companies'] = mentions_texts.apply(lambda row: list(set(text_to_companies(row['MessageText']))), axis=1)"
   ]
  },
  {
   "cell_type": "code",
   "execution_count": 417,
   "metadata": {},
   "outputs": [],
   "source": [
    "mentions_texts['predict_new'] = mentions_texts.apply(lambda row: (row['issuerid'] in row['companies'])*1, axis=1)"
   ]
  },
  {
   "cell_type": "code",
   "execution_count": 405,
   "metadata": {},
   "outputs": [
    {
     "data": {
      "text/plain": [
       "0        [ммк, magn, магнит, mgnt, новатэк, nvtk, детск...\n",
       "1                                              [lsrg, лср]\n",
       "2                                 [chmf, северсталь, chmf]\n",
       "3                                                   [есть]\n",
       "4           [россии, новатэк, не, корпорация, биржа, nvtk]\n",
       "                               ...                        \n",
       "19350    [nlmk, новолипецкий, металлургический, комбина...\n",
       "19351    [moex, tcsg, эталон, etln, petropavlovsk, pogr...\n",
       "19352       [five, россия, не, x5, x5, x5, x5, x5, не, x5]\n",
       "19353                                [интер, рао, новатэк]\n",
       "19354                                       [mvid, мвидео]\n",
       "Name: words, Length: 19355, dtype: object"
      ]
     },
     "execution_count": 405,
     "metadata": {},
     "output_type": "execute_result"
    }
   ],
   "source": [
    "mentions_texts['words']"
   ]
  },
  {
   "cell_type": "code",
   "execution_count": 406,
   "metadata": {},
   "outputs": [
    {
     "data": {
      "text/plain": [
       "0.9118057349522087"
      ]
     },
     "execution_count": 406,
     "metadata": {},
     "output_type": "execute_result"
    }
   ],
   "source": [
    "mentions_texts['predict_true'].sum()/len(mentions_texts)"
   ]
  },
  {
   "cell_type": "code",
   "execution_count": 407,
   "metadata": {},
   "outputs": [],
   "source": [
    "import numpy as np"
   ]
  },
  {
   "cell_type": "code",
   "execution_count": 386,
   "metadata": {},
   "outputs": [
    {
     "name": "stderr",
     "output_type": "stream",
     "text": [
      "/tmp/ipykernel_36844/464780557.py:1: FutureWarning: The provided callable <function mean at 0x7a423c1a7010> is currently using SeriesGroupBy.mean. In a future version of pandas, the provided callable will be used directly. To keep current behavior pass the string \"mean\" instead.\n",
      "  result_by_id = mentions_texts.groupby('issuerid')['predict_true'].agg(np.mean)\n"
     ]
    }
   ],
   "source": [
    "result_by_id = mentions_texts.groupby('issuerid')['predict_true'].agg(np.mean)"
   ]
  },
  {
   "cell_type": "code",
   "execution_count": 387,
   "metadata": {},
   "outputs": [
    {
     "data": {
      "text/plain": [
       "issuerid\n",
       "-2      0.000000\n",
       " 2      0.905882\n",
       " 4      0.788703\n",
       " 7      0.988309\n",
       " 11     0.964680\n",
       "          ...   \n",
       " 269    1.000000\n",
       " 270    1.000000\n",
       " 271    0.913043\n",
       " 273    0.791667\n",
       " 274    1.000000\n",
       "Name: predict_true, Length: 123, dtype: float64"
      ]
     },
     "execution_count": 387,
     "metadata": {},
     "output_type": "execute_result"
    }
   ],
   "source": [
    "result_by_id"
   ]
  },
  {
   "cell_type": "code",
   "execution_count": 388,
   "metadata": {},
   "outputs": [],
   "source": [
    "bad_result = result_by_id[result_by_id<1]"
   ]
  },
  {
   "cell_type": "code",
   "execution_count": 389,
   "metadata": {},
   "outputs": [],
   "source": [
    "errors = bad_result"
   ]
  },
  {
   "cell_type": "code",
   "execution_count": 390,
   "metadata": {},
   "outputs": [],
   "source": [
    "bad_ind = result_by_id[result_by_id<1].index"
   ]
  },
  {
   "cell_type": "code",
   "execution_count": 394,
   "metadata": {},
   "outputs": [
    {
     "data": {
      "text/plain": [
       "87"
      ]
     },
     "execution_count": 394,
     "metadata": {},
     "output_type": "execute_result"
    }
   ],
   "source": [
    "len(bad_ind)"
   ]
  },
  {
   "cell_type": "code",
   "execution_count": 412,
   "metadata": {},
   "outputs": [
    {
     "data": {
      "text/html": [
       "<div>\n",
       "<style scoped>\n",
       "    .dataframe tbody tr th:only-of-type {\n",
       "        vertical-align: middle;\n",
       "    }\n",
       "\n",
       "    .dataframe tbody tr th {\n",
       "        vertical-align: top;\n",
       "    }\n",
       "\n",
       "    .dataframe thead th {\n",
       "        text-align: right;\n",
       "    }\n",
       "</style>\n",
       "<table border=\"1\" class=\"dataframe\">\n",
       "  <thead>\n",
       "    <tr style=\"text-align: right;\">\n",
       "      <th></th>\n",
       "      <th>MessageText</th>\n",
       "      <th>words</th>\n",
       "      <th>companies</th>\n",
       "      <th>issuerid</th>\n",
       "    </tr>\n",
       "  </thead>\n",
       "  <tbody>\n",
       "    <tr>\n",
       "      <th>3</th>\n",
       "      <td>\"Версия: Многоходовочка по Роснефти  Роснефтег...</td>\n",
       "      <td>[есть]</td>\n",
       "      <td>[178]</td>\n",
       "      <td>112</td>\n",
       "    </tr>\n",
       "    <tr>\n",
       "      <th>17</th>\n",
       "      <td>#нпфы Финансовая группа «Будущее» продала инве...</td>\n",
       "      <td>[финансовая]</td>\n",
       "      <td>[26]</td>\n",
       "      <td>70</td>\n",
       "    </tr>\n",
       "    <tr>\n",
       "      <th>51</th>\n",
       "      <td>Прогнозы и комментарии. Коррекция или разворот...</td>\n",
       "      <td>[росбанк, красный]</td>\n",
       "      <td>[211, 161]</td>\n",
       "      <td>160</td>\n",
       "    </tr>\n",
       "    <tr>\n",
       "      <th>52</th>\n",
       "      <td>Прогнозы и комментарии. Коррекция или разворот...</td>\n",
       "      <td>[росбанк, красный]</td>\n",
       "      <td>[211, 161]</td>\n",
       "      <td>99</td>\n",
       "    </tr>\n",
       "    <tr>\n",
       "      <th>54</th>\n",
       "      <td>\"IRAO - ДОЙНАЯ КОРОВА? ИнтерРАО обсуждает выку...</td>\n",
       "      <td>[irao, русгидро, фск, русгидро, не, рынка, рус...</td>\n",
       "      <td>[72, 185, 186, 185, 178, 42, 185, 186, 186, 17...</td>\n",
       "      <td>112</td>\n",
       "    </tr>\n",
       "    <tr>\n",
       "      <th>...</th>\n",
       "      <td>...</td>\n",
       "      <td>...</td>\n",
       "      <td>...</td>\n",
       "      <td>...</td>\n",
       "    </tr>\n",
       "    <tr>\n",
       "      <th>19334</th>\n",
       "      <td>Кто «кормит» Севастополь? По оперативным данны...</td>\n",
       "      <td>[ао, имени, ао, торговый, 5]</td>\n",
       "      <td>[228, 65, 228, 118, 227]</td>\n",
       "      <td>187</td>\n",
       "    </tr>\n",
       "    <tr>\n",
       "      <th>19338</th>\n",
       "      <td>А че там в Бане [BANEP] республика Башкортоста...</td>\n",
       "      <td>[]</td>\n",
       "      <td>[]</td>\n",
       "      <td>25</td>\n",
       "    </tr>\n",
       "    <tr>\n",
       "      <th>19344</th>\n",
       "      <td>\"Встреча ОПЕК+ сегодня в центре внимания. Она ...</td>\n",
       "      <td>[торговый, не, россии, лукойл, не]</td>\n",
       "      <td>[118, 178, 150, 111, 178]</td>\n",
       "      <td>12</td>\n",
       "    </tr>\n",
       "    <tr>\n",
       "      <th>19346</th>\n",
       "      <td>Дивидендный гэп в Татнефти. Как быстро будет з...</td>\n",
       "      <td>[ао]</td>\n",
       "      <td>[228]</td>\n",
       "      <td>163</td>\n",
       "    </tr>\n",
       "    <tr>\n",
       "      <th>19348</th>\n",
       "      <td>💥🇷🇺#SNGSp закрыл гэп июля 2022г</td>\n",
       "      <td>[]</td>\n",
       "      <td>[]</td>\n",
       "      <td>160</td>\n",
       "    </tr>\n",
       "  </tbody>\n",
       "</table>\n",
       "<p>1707 rows × 4 columns</p>\n",
       "</div>"
      ],
      "text/plain": [
       "                                             MessageText  \\\n",
       "3      \"Версия: Многоходовочка по Роснефти  Роснефтег...   \n",
       "17     #нпфы Финансовая группа «Будущее» продала инве...   \n",
       "51     Прогнозы и комментарии. Коррекция или разворот...   \n",
       "52     Прогнозы и комментарии. Коррекция или разворот...   \n",
       "54     \"IRAO - ДОЙНАЯ КОРОВА? ИнтерРАО обсуждает выку...   \n",
       "...                                                  ...   \n",
       "19334  Кто «кормит» Севастополь? По оперативным данны...   \n",
       "19338  А че там в Бане [BANEP] республика Башкортоста...   \n",
       "19344  \"Встреча ОПЕК+ сегодня в центре внимания. Она ...   \n",
       "19346  Дивидендный гэп в Татнефти. Как быстро будет з...   \n",
       "19348                    💥🇷🇺#SNGSp закрыл гэп июля 2022г   \n",
       "\n",
       "                                                   words  \\\n",
       "3                                                 [есть]   \n",
       "17                                          [финансовая]   \n",
       "51                                    [росбанк, красный]   \n",
       "52                                    [росбанк, красный]   \n",
       "54     [irao, русгидро, фск, русгидро, не, рынка, рус...   \n",
       "...                                                  ...   \n",
       "19334                       [ао, имени, ао, торговый, 5]   \n",
       "19338                                                 []   \n",
       "19344                 [торговый, не, россии, лукойл, не]   \n",
       "19346                                               [ао]   \n",
       "19348                                                 []   \n",
       "\n",
       "                                               companies  issuerid  \n",
       "3                                                  [178]       112  \n",
       "17                                                  [26]        70  \n",
       "51                                            [211, 161]       160  \n",
       "52                                            [211, 161]        99  \n",
       "54     [72, 185, 186, 185, 178, 42, 185, 186, 186, 17...       112  \n",
       "...                                                  ...       ...  \n",
       "19334                           [228, 65, 228, 118, 227]       187  \n",
       "19338                                                 []        25  \n",
       "19344                          [118, 178, 150, 111, 178]        12  \n",
       "19346                                              [228]       163  \n",
       "19348                                                 []       160  \n",
       "\n",
       "[1707 rows x 4 columns]"
      ]
     },
     "execution_count": 412,
     "metadata": {},
     "output_type": "execute_result"
    }
   ],
   "source": [
    "bad_cases = mentions_texts.loc[mentions_texts['predict_true']==0, ['MessageText', 'words', 'companies', 'issuerid']]\n",
    "bad_cases"
   ]
  },
  {
   "cell_type": "code",
   "execution_count": 413,
   "metadata": {},
   "outputs": [
    {
     "data": {
      "text/plain": [
       "array(['Прогнозы и комментарии. Коррекция или разворот?  Индекс МосБиржи от двухлетних максимумов ушел в коррекцию. Недельная разворотная свеча может настораживать краткосрочных активных трейдеров, а для инвесторов это возможность усилить позиции в подешевевших активах на перспективу — годовому тренду вверх вряд ли пока что-то угрожает.  Рубль за неделю потерял процент, индекс ОФЗ рухнул на минимумы апреля 2022 г. — валютные барьеры ограждают нацвалюту от девальвации и одновременно давят на котировки облигаций. Через неделю заседание ЦБ по ставке, и картина на валютном и долговом рынках прояснится.  Бумаги в фокусе — ТКС Холдинг и Росбанк, «префы» Мечела, Татнефти и Сургутнефтегаза.  На внешнем контуре умеренная коррекция в индексах США, утренние фьючерсы слабы, азиатские площадки окрашены в ярко красный — факторы указывают на негативный старт европейской пятничной сессии акций.  Оцениваем ближайшие перспективы в утреннем материале: https://bcs-express.ru/novosti-i-analitika/prognozy-i-kommentarii-korrektsiia-ili-razvorot',\n",
       "       list(['росбанк', 'красный']), list([211, 161]), 160], dtype=object)"
      ]
     },
     "execution_count": 413,
     "metadata": {},
     "output_type": "execute_result"
    }
   ],
   "source": [
    "bad_cases.loc[51].values"
   ]
  },
  {
   "cell_type": "code",
   "execution_count": 414,
   "metadata": {},
   "outputs": [
    {
     "data": {
      "text/plain": [
       "['сургутнефтегаз', 'sngs']"
      ]
     },
     "execution_count": 414,
     "metadata": {},
     "output_type": "execute_result"
    }
   ],
   "source": [
    "id_to_names[160]"
   ]
  },
  {
   "cell_type": "code",
   "execution_count": null,
   "metadata": {},
   "outputs": [],
   "source": [
    "id_to_names[51]"
   ]
  },
  {
   "cell_type": "code",
   "execution_count": null,
   "metadata": {},
   "outputs": [],
   "source": [
    "# одно и тоже слово в разных компаниях\n",
    "# окончания, лучше смотреть вхождение в общую строку из всех слов, но это не точно ;)"
   ]
  }
 ],
 "metadata": {
  "kernelspec": {
   "display_name": "Python 3.11.8 ('sentim')",
   "language": "python",
   "name": "python3"
  },
  "language_info": {
   "codemirror_mode": {
    "name": "ipython",
    "version": 3
   },
   "file_extension": ".py",
   "mimetype": "text/x-python",
   "name": "python",
   "nbconvert_exporter": "python",
   "pygments_lexer": "ipython3",
   "version": "3.10.12"
  },
  "orig_nbformat": 4,
  "vscode": {
   "interpreter": {
    "hash": "71b43b1161994dabcaec092bbb75f034ad127bcc84e43838e2d97cd0666f702c"
   }
  }
 },
 "nbformat": 4,
 "nbformat_minor": 2
}
